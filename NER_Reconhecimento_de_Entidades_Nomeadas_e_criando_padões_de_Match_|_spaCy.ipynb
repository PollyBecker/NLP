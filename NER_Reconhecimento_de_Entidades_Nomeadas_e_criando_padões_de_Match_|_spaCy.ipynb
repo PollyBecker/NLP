{
  "nbformat": 4,
  "nbformat_minor": 0,
  "metadata": {
    "colab": {
      "provenance": [],
      "mount_file_id": "1mP29MBkpdcJGbcAWSIRQL4qApqU4U15V",
      "authorship_tag": "ABX9TyMaiAMrMyPhm9Wpx6jb3x4V",
      "include_colab_link": true
    },
    "kernelspec": {
      "name": "python3",
      "display_name": "Python 3"
    },
    "language_info": {
      "name": "python"
    }
  },
  "cells": [
    {
      "cell_type": "markdown",
      "metadata": {
        "id": "view-in-github",
        "colab_type": "text"
      },
      "source": [
        "<a href=\"https://colab.research.google.com/github/PollyBecker/NLP/blob/main/NER_Reconhecimento_de_Entidades_Nomeadas_e_criando_pad%C3%B5es_de_Match_%7C_spaCy.ipynb\" target=\"_parent\"><img src=\"https://colab.research.google.com/assets/colab-badge.svg\" alt=\"Open In Colab\"/></a>"
      ]
    },
    {
      "cell_type": "markdown",
      "source": [
        "# NER Named Entity Recognition\n",
        "Named Entity Recognition (NER), em Português, Reconhecimento de Entidade Nomeada, é um processo de identificação de entidades predefinidas presentes em um texto, como nome da pessoa, organização, local que já vem pré-definidas no framework spaCy ou entidades que podemos criar com ajuda desta ferramenta.\n",
        "# Matcher\n",
        "O Matcher é uma ferramenta no spaCy que permite encontrar sequências de tokens em um documento com base em padrões que você define. Você pode criar padrões usando atributos como texto, formato de caracteres, parte do discurso, entre outros. O Matcher é útil para identificar padrões específicos no texto, como endereços de e-mail, números de telefone, ou qualquer outro tipo de estrutura que você deseja extrair automaticamente de um texto."
      ],
      "metadata": {
        "id": "mQo9eudz2TWi"
      }
    },
    {
      "cell_type": "markdown",
      "source": [
        "# 1- Instalando o SpaCy\n",
        "\n",
        "https://www.youtube.com/watch?v=2XUhKpH0p4M\n",
        "\n",
        "https://www.youtube.com/watch?v=9mXoGxAn6pM\n",
        "https://spacy.io/models"
      ],
      "metadata": {
        "id": "BnDXYntrYgQz"
      }
    },
    {
      "cell_type": "code",
      "execution_count": 1,
      "metadata": {
        "colab": {
          "base_uri": "https://localhost:8080/"
        },
        "id": "EoJ1CwipYJGV",
        "outputId": "d4066bd5-5696-45b5-f0f5-87c6df8229a6"
      },
      "outputs": [
        {
          "output_type": "stream",
          "name": "stdout",
          "text": [
            "Requirement already satisfied: spacy in /usr/local/lib/python3.10/dist-packages (3.7.4)\n",
            "Requirement already satisfied: spacy-legacy<3.1.0,>=3.0.11 in /usr/local/lib/python3.10/dist-packages (from spacy) (3.0.12)\n",
            "Requirement already satisfied: spacy-loggers<2.0.0,>=1.0.0 in /usr/local/lib/python3.10/dist-packages (from spacy) (1.0.5)\n",
            "Requirement already satisfied: murmurhash<1.1.0,>=0.28.0 in /usr/local/lib/python3.10/dist-packages (from spacy) (1.0.10)\n",
            "Requirement already satisfied: cymem<2.1.0,>=2.0.2 in /usr/local/lib/python3.10/dist-packages (from spacy) (2.0.8)\n",
            "Requirement already satisfied: preshed<3.1.0,>=3.0.2 in /usr/local/lib/python3.10/dist-packages (from spacy) (3.0.9)\n",
            "Requirement already satisfied: thinc<8.3.0,>=8.2.2 in /usr/local/lib/python3.10/dist-packages (from spacy) (8.2.3)\n",
            "Requirement already satisfied: wasabi<1.2.0,>=0.9.1 in /usr/local/lib/python3.10/dist-packages (from spacy) (1.1.2)\n",
            "Requirement already satisfied: srsly<3.0.0,>=2.4.3 in /usr/local/lib/python3.10/dist-packages (from spacy) (2.4.8)\n",
            "Requirement already satisfied: catalogue<2.1.0,>=2.0.6 in /usr/local/lib/python3.10/dist-packages (from spacy) (2.0.10)\n",
            "Requirement already satisfied: weasel<0.4.0,>=0.1.0 in /usr/local/lib/python3.10/dist-packages (from spacy) (0.3.4)\n",
            "Requirement already satisfied: typer<0.10.0,>=0.3.0 in /usr/local/lib/python3.10/dist-packages (from spacy) (0.9.4)\n",
            "Requirement already satisfied: smart-open<7.0.0,>=5.2.1 in /usr/local/lib/python3.10/dist-packages (from spacy) (6.4.0)\n",
            "Requirement already satisfied: tqdm<5.0.0,>=4.38.0 in /usr/local/lib/python3.10/dist-packages (from spacy) (4.66.4)\n",
            "Requirement already satisfied: requests<3.0.0,>=2.13.0 in /usr/local/lib/python3.10/dist-packages (from spacy) (2.31.0)\n",
            "Requirement already satisfied: pydantic!=1.8,!=1.8.1,<3.0.0,>=1.7.4 in /usr/local/lib/python3.10/dist-packages (from spacy) (2.7.1)\n",
            "Requirement already satisfied: jinja2 in /usr/local/lib/python3.10/dist-packages (from spacy) (3.1.4)\n",
            "Requirement already satisfied: setuptools in /usr/local/lib/python3.10/dist-packages (from spacy) (67.7.2)\n",
            "Requirement already satisfied: packaging>=20.0 in /usr/local/lib/python3.10/dist-packages (from spacy) (24.0)\n",
            "Requirement already satisfied: langcodes<4.0.0,>=3.2.0 in /usr/local/lib/python3.10/dist-packages (from spacy) (3.4.0)\n",
            "Requirement already satisfied: numpy>=1.19.0 in /usr/local/lib/python3.10/dist-packages (from spacy) (1.25.2)\n",
            "Requirement already satisfied: language-data>=1.2 in /usr/local/lib/python3.10/dist-packages (from langcodes<4.0.0,>=3.2.0->spacy) (1.2.0)\n",
            "Requirement already satisfied: annotated-types>=0.4.0 in /usr/local/lib/python3.10/dist-packages (from pydantic!=1.8,!=1.8.1,<3.0.0,>=1.7.4->spacy) (0.7.0)\n",
            "Requirement already satisfied: pydantic-core==2.18.2 in /usr/local/lib/python3.10/dist-packages (from pydantic!=1.8,!=1.8.1,<3.0.0,>=1.7.4->spacy) (2.18.2)\n",
            "Requirement already satisfied: typing-extensions>=4.6.1 in /usr/local/lib/python3.10/dist-packages (from pydantic!=1.8,!=1.8.1,<3.0.0,>=1.7.4->spacy) (4.11.0)\n",
            "Requirement already satisfied: charset-normalizer<4,>=2 in /usr/local/lib/python3.10/dist-packages (from requests<3.0.0,>=2.13.0->spacy) (3.3.2)\n",
            "Requirement already satisfied: idna<4,>=2.5 in /usr/local/lib/python3.10/dist-packages (from requests<3.0.0,>=2.13.0->spacy) (3.7)\n",
            "Requirement already satisfied: urllib3<3,>=1.21.1 in /usr/local/lib/python3.10/dist-packages (from requests<3.0.0,>=2.13.0->spacy) (2.0.7)\n",
            "Requirement already satisfied: certifi>=2017.4.17 in /usr/local/lib/python3.10/dist-packages (from requests<3.0.0,>=2.13.0->spacy) (2024.2.2)\n",
            "Requirement already satisfied: blis<0.8.0,>=0.7.8 in /usr/local/lib/python3.10/dist-packages (from thinc<8.3.0,>=8.2.2->spacy) (0.7.11)\n",
            "Requirement already satisfied: confection<1.0.0,>=0.0.1 in /usr/local/lib/python3.10/dist-packages (from thinc<8.3.0,>=8.2.2->spacy) (0.1.4)\n",
            "Requirement already satisfied: click<9.0.0,>=7.1.1 in /usr/local/lib/python3.10/dist-packages (from typer<0.10.0,>=0.3.0->spacy) (8.1.7)\n",
            "Requirement already satisfied: cloudpathlib<0.17.0,>=0.7.0 in /usr/local/lib/python3.10/dist-packages (from weasel<0.4.0,>=0.1.0->spacy) (0.16.0)\n",
            "Requirement already satisfied: MarkupSafe>=2.0 in /usr/local/lib/python3.10/dist-packages (from jinja2->spacy) (2.1.5)\n",
            "Requirement already satisfied: marisa-trie>=0.7.7 in /usr/local/lib/python3.10/dist-packages (from language-data>=1.2->langcodes<4.0.0,>=3.2.0->spacy) (1.1.1)\n"
          ]
        }
      ],
      "source": [
        "!pip install -U spacy"
      ]
    },
    {
      "cell_type": "markdown",
      "source": [
        "# 2- Fazendo o dowload do modelo\n"
      ],
      "metadata": {
        "id": "znq7YQiVY8r0"
      }
    },
    {
      "cell_type": "code",
      "source": [
        "!python -m spacy download pt_core_news_sm"
      ],
      "metadata": {
        "colab": {
          "base_uri": "https://localhost:8080/"
        },
        "id": "G6FryN37Yy-d",
        "outputId": "77c7f7d1-cc10-491f-b408-5c1c3e6ff8ff"
      },
      "execution_count": 2,
      "outputs": [
        {
          "output_type": "stream",
          "name": "stdout",
          "text": [
            "Collecting pt-core-news-sm==3.7.0\n",
            "  Downloading https://github.com/explosion/spacy-models/releases/download/pt_core_news_sm-3.7.0/pt_core_news_sm-3.7.0-py3-none-any.whl (13.0 MB)\n",
            "\u001b[2K     \u001b[90m━━━━━━━━━━━━━━━━━━━━━━━━━━━━━━━━━━━━━━━━\u001b[0m \u001b[32m13.0/13.0 MB\u001b[0m \u001b[31m43.5 MB/s\u001b[0m eta \u001b[36m0:00:00\u001b[0m\n",
            "\u001b[?25hRequirement already satisfied: spacy<3.8.0,>=3.7.0 in /usr/local/lib/python3.10/dist-packages (from pt-core-news-sm==3.7.0) (3.7.4)\n",
            "Requirement already satisfied: spacy-legacy<3.1.0,>=3.0.11 in /usr/local/lib/python3.10/dist-packages (from spacy<3.8.0,>=3.7.0->pt-core-news-sm==3.7.0) (3.0.12)\n",
            "Requirement already satisfied: spacy-loggers<2.0.0,>=1.0.0 in /usr/local/lib/python3.10/dist-packages (from spacy<3.8.0,>=3.7.0->pt-core-news-sm==3.7.0) (1.0.5)\n",
            "Requirement already satisfied: murmurhash<1.1.0,>=0.28.0 in /usr/local/lib/python3.10/dist-packages (from spacy<3.8.0,>=3.7.0->pt-core-news-sm==3.7.0) (1.0.10)\n",
            "Requirement already satisfied: cymem<2.1.0,>=2.0.2 in /usr/local/lib/python3.10/dist-packages (from spacy<3.8.0,>=3.7.0->pt-core-news-sm==3.7.0) (2.0.8)\n",
            "Requirement already satisfied: preshed<3.1.0,>=3.0.2 in /usr/local/lib/python3.10/dist-packages (from spacy<3.8.0,>=3.7.0->pt-core-news-sm==3.7.0) (3.0.9)\n",
            "Requirement already satisfied: thinc<8.3.0,>=8.2.2 in /usr/local/lib/python3.10/dist-packages (from spacy<3.8.0,>=3.7.0->pt-core-news-sm==3.7.0) (8.2.3)\n",
            "Requirement already satisfied: wasabi<1.2.0,>=0.9.1 in /usr/local/lib/python3.10/dist-packages (from spacy<3.8.0,>=3.7.0->pt-core-news-sm==3.7.0) (1.1.2)\n",
            "Requirement already satisfied: srsly<3.0.0,>=2.4.3 in /usr/local/lib/python3.10/dist-packages (from spacy<3.8.0,>=3.7.0->pt-core-news-sm==3.7.0) (2.4.8)\n",
            "Requirement already satisfied: catalogue<2.1.0,>=2.0.6 in /usr/local/lib/python3.10/dist-packages (from spacy<3.8.0,>=3.7.0->pt-core-news-sm==3.7.0) (2.0.10)\n",
            "Requirement already satisfied: weasel<0.4.0,>=0.1.0 in /usr/local/lib/python3.10/dist-packages (from spacy<3.8.0,>=3.7.0->pt-core-news-sm==3.7.0) (0.3.4)\n",
            "Requirement already satisfied: typer<0.10.0,>=0.3.0 in /usr/local/lib/python3.10/dist-packages (from spacy<3.8.0,>=3.7.0->pt-core-news-sm==3.7.0) (0.9.4)\n",
            "Requirement already satisfied: smart-open<7.0.0,>=5.2.1 in /usr/local/lib/python3.10/dist-packages (from spacy<3.8.0,>=3.7.0->pt-core-news-sm==3.7.0) (6.4.0)\n",
            "Requirement already satisfied: tqdm<5.0.0,>=4.38.0 in /usr/local/lib/python3.10/dist-packages (from spacy<3.8.0,>=3.7.0->pt-core-news-sm==3.7.0) (4.66.4)\n",
            "Requirement already satisfied: requests<3.0.0,>=2.13.0 in /usr/local/lib/python3.10/dist-packages (from spacy<3.8.0,>=3.7.0->pt-core-news-sm==3.7.0) (2.31.0)\n",
            "Requirement already satisfied: pydantic!=1.8,!=1.8.1,<3.0.0,>=1.7.4 in /usr/local/lib/python3.10/dist-packages (from spacy<3.8.0,>=3.7.0->pt-core-news-sm==3.7.0) (2.7.1)\n",
            "Requirement already satisfied: jinja2 in /usr/local/lib/python3.10/dist-packages (from spacy<3.8.0,>=3.7.0->pt-core-news-sm==3.7.0) (3.1.4)\n",
            "Requirement already satisfied: setuptools in /usr/local/lib/python3.10/dist-packages (from spacy<3.8.0,>=3.7.0->pt-core-news-sm==3.7.0) (67.7.2)\n",
            "Requirement already satisfied: packaging>=20.0 in /usr/local/lib/python3.10/dist-packages (from spacy<3.8.0,>=3.7.0->pt-core-news-sm==3.7.0) (24.0)\n",
            "Requirement already satisfied: langcodes<4.0.0,>=3.2.0 in /usr/local/lib/python3.10/dist-packages (from spacy<3.8.0,>=3.7.0->pt-core-news-sm==3.7.0) (3.4.0)\n",
            "Requirement already satisfied: numpy>=1.19.0 in /usr/local/lib/python3.10/dist-packages (from spacy<3.8.0,>=3.7.0->pt-core-news-sm==3.7.0) (1.25.2)\n",
            "Requirement already satisfied: language-data>=1.2 in /usr/local/lib/python3.10/dist-packages (from langcodes<4.0.0,>=3.2.0->spacy<3.8.0,>=3.7.0->pt-core-news-sm==3.7.0) (1.2.0)\n",
            "Requirement already satisfied: annotated-types>=0.4.0 in /usr/local/lib/python3.10/dist-packages (from pydantic!=1.8,!=1.8.1,<3.0.0,>=1.7.4->spacy<3.8.0,>=3.7.0->pt-core-news-sm==3.7.0) (0.7.0)\n",
            "Requirement already satisfied: pydantic-core==2.18.2 in /usr/local/lib/python3.10/dist-packages (from pydantic!=1.8,!=1.8.1,<3.0.0,>=1.7.4->spacy<3.8.0,>=3.7.0->pt-core-news-sm==3.7.0) (2.18.2)\n",
            "Requirement already satisfied: typing-extensions>=4.6.1 in /usr/local/lib/python3.10/dist-packages (from pydantic!=1.8,!=1.8.1,<3.0.0,>=1.7.4->spacy<3.8.0,>=3.7.0->pt-core-news-sm==3.7.0) (4.11.0)\n",
            "Requirement already satisfied: charset-normalizer<4,>=2 in /usr/local/lib/python3.10/dist-packages (from requests<3.0.0,>=2.13.0->spacy<3.8.0,>=3.7.0->pt-core-news-sm==3.7.0) (3.3.2)\n",
            "Requirement already satisfied: idna<4,>=2.5 in /usr/local/lib/python3.10/dist-packages (from requests<3.0.0,>=2.13.0->spacy<3.8.0,>=3.7.0->pt-core-news-sm==3.7.0) (3.7)\n",
            "Requirement already satisfied: urllib3<3,>=1.21.1 in /usr/local/lib/python3.10/dist-packages (from requests<3.0.0,>=2.13.0->spacy<3.8.0,>=3.7.0->pt-core-news-sm==3.7.0) (2.0.7)\n",
            "Requirement already satisfied: certifi>=2017.4.17 in /usr/local/lib/python3.10/dist-packages (from requests<3.0.0,>=2.13.0->spacy<3.8.0,>=3.7.0->pt-core-news-sm==3.7.0) (2024.2.2)\n",
            "Requirement already satisfied: blis<0.8.0,>=0.7.8 in /usr/local/lib/python3.10/dist-packages (from thinc<8.3.0,>=8.2.2->spacy<3.8.0,>=3.7.0->pt-core-news-sm==3.7.0) (0.7.11)\n",
            "Requirement already satisfied: confection<1.0.0,>=0.0.1 in /usr/local/lib/python3.10/dist-packages (from thinc<8.3.0,>=8.2.2->spacy<3.8.0,>=3.7.0->pt-core-news-sm==3.7.0) (0.1.4)\n",
            "Requirement already satisfied: click<9.0.0,>=7.1.1 in /usr/local/lib/python3.10/dist-packages (from typer<0.10.0,>=0.3.0->spacy<3.8.0,>=3.7.0->pt-core-news-sm==3.7.0) (8.1.7)\n",
            "Requirement already satisfied: cloudpathlib<0.17.0,>=0.7.0 in /usr/local/lib/python3.10/dist-packages (from weasel<0.4.0,>=0.1.0->spacy<3.8.0,>=3.7.0->pt-core-news-sm==3.7.0) (0.16.0)\n",
            "Requirement already satisfied: MarkupSafe>=2.0 in /usr/local/lib/python3.10/dist-packages (from jinja2->spacy<3.8.0,>=3.7.0->pt-core-news-sm==3.7.0) (2.1.5)\n",
            "Requirement already satisfied: marisa-trie>=0.7.7 in /usr/local/lib/python3.10/dist-packages (from language-data>=1.2->langcodes<4.0.0,>=3.2.0->spacy<3.8.0,>=3.7.0->pt-core-news-sm==3.7.0) (1.1.1)\n",
            "Installing collected packages: pt-core-news-sm\n",
            "Successfully installed pt-core-news-sm-3.7.0\n",
            "\u001b[38;5;2m✔ Download and installation successful\u001b[0m\n",
            "You can now load the package via spacy.load('pt_core_news_sm')\n",
            "\u001b[38;5;3m⚠ Restart to reload dependencies\u001b[0m\n",
            "If you are in a Jupyter or Colab notebook, you may need to restart Python in\n",
            "order to load all the package's dependencies. You can do this by selecting the\n",
            "'Restart kernel' or 'Restart runtime' option.\n"
          ]
        }
      ]
    },
    {
      "cell_type": "code",
      "source": [
        "import spacy\n",
        "import pt_core_news_sm\n",
        "nlp = pt_core_news_sm.load()"
      ],
      "metadata": {
        "id": "iY2XPitvY6sm"
      },
      "execution_count": 3,
      "outputs": []
    },
    {
      "cell_type": "code",
      "source": [
        "texto = nlp('Maria mora em Paris')\n",
        "\n",
        "# Printando as entidades padão do modelo\n",
        "for entidade in texto.ents:\n",
        "  print(entidade.text, entidade.label_)"
      ],
      "metadata": {
        "colab": {
          "base_uri": "https://localhost:8080/"
        },
        "id": "7a3xTSI3ZR8L",
        "outputId": "f280d237-b59c-43f9-e740-a4c244d414e4"
      },
      "execution_count": 4,
      "outputs": [
        {
          "output_type": "stream",
          "name": "stdout",
          "text": [
            "Maria PER\n",
            "Paris LOC\n"
          ]
        }
      ]
    },
    {
      "cell_type": "code",
      "source": [
        "# Visualização das entidades na frase\n",
        "spacy.displacy.render(texto, style='ent', jupyter=True)"
      ],
      "metadata": {
        "colab": {
          "base_uri": "https://localhost:8080/",
          "height": 52
        },
        "id": "YQRBSQCEZbEG",
        "outputId": "91655ade-b640-4394-a6fb-8c6e255d4b0f"
      },
      "execution_count": 5,
      "outputs": [
        {
          "output_type": "display_data",
          "data": {
            "text/plain": [
              "<IPython.core.display.HTML object>"
            ],
            "text/html": [
              "<span class=\"tex2jax_ignore\"><div class=\"entities\" style=\"line-height: 2.5; direction: ltr\">\n",
              "<mark class=\"entity\" style=\"background: #ddd; padding: 0.45em 0.6em; margin: 0 0.25em; line-height: 1; border-radius: 0.35em;\">\n",
              "    Maria\n",
              "    <span style=\"font-size: 0.8em; font-weight: bold; line-height: 1; border-radius: 0.35em; vertical-align: middle; margin-left: 0.5rem\">PER</span>\n",
              "</mark>\n",
              " mora em \n",
              "<mark class=\"entity\" style=\"background: #ff9561; padding: 0.45em 0.6em; margin: 0 0.25em; line-height: 1; border-radius: 0.35em;\">\n",
              "    Paris\n",
              "    <span style=\"font-size: 0.8em; font-weight: bold; line-height: 1; border-radius: 0.35em; vertical-align: middle; margin-left: 0.5rem\">LOC</span>\n",
              "</mark>\n",
              "</div></span>"
            ]
          },
          "metadata": {}
        }
      ]
    },
    {
      "cell_type": "code",
      "source": [
        "# O que é cada tipo de entidade(ver na doc do spacy)\n",
        "print(\"PER:\", spacy.explain('PER'))\n",
        "print(\"LOC:\", spacy.explain('LOC'))\n",
        "print(\"ORG:\", spacy.explain('ORG'))\n",
        "print(\"MISC:\", spacy.explain('MISC'))"
      ],
      "metadata": {
        "colab": {
          "base_uri": "https://localhost:8080/"
        },
        "id": "A-9aiI8RZkta",
        "outputId": "8be95740-bd70-41a6-ecf6-a3dc12964338"
      },
      "execution_count": 6,
      "outputs": [
        {
          "output_type": "stream",
          "name": "stdout",
          "text": [
            "PER: Named person or family.\n",
            "LOC: Non-GPE locations, mountain ranges, bodies of water\n",
            "ORG: Companies, agencies, institutions, etc.\n",
            "MISC: Miscellaneous entities, e.g. events, nationalities, products or works of art\n"
          ]
        }
      ]
    },
    {
      "cell_type": "code",
      "source": [
        "text = nlp(\"Juliana nasceu no dia 18/06/2018 em Fortaleza\")\n",
        "spacy.displacy.render(text, style='ent', jupyter=True)"
      ],
      "metadata": {
        "colab": {
          "base_uri": "https://localhost:8080/",
          "height": 52
        },
        "id": "yfg1wyuvZ4_B",
        "outputId": "dd53ed8d-fdd7-4633-b5e2-10feb992ddfd"
      },
      "execution_count": 7,
      "outputs": [
        {
          "output_type": "display_data",
          "data": {
            "text/plain": [
              "<IPython.core.display.HTML object>"
            ],
            "text/html": [
              "<span class=\"tex2jax_ignore\"><div class=\"entities\" style=\"line-height: 2.5; direction: ltr\">\n",
              "<mark class=\"entity\" style=\"background: #ddd; padding: 0.45em 0.6em; margin: 0 0.25em; line-height: 1; border-radius: 0.35em;\">\n",
              "    Juliana\n",
              "    <span style=\"font-size: 0.8em; font-weight: bold; line-height: 1; border-radius: 0.35em; vertical-align: middle; margin-left: 0.5rem\">PER</span>\n",
              "</mark>\n",
              " nasceu no dia 18/06/2018 em \n",
              "<mark class=\"entity\" style=\"background: #ff9561; padding: 0.45em 0.6em; margin: 0 0.25em; line-height: 1; border-radius: 0.35em;\">\n",
              "    Fortaleza\n",
              "    <span style=\"font-size: 0.8em; font-weight: bold; line-height: 1; border-radius: 0.35em; vertical-align: middle; margin-left: 0.5rem\">LOC</span>\n",
              "</mark>\n",
              "</div></span>"
            ]
          },
          "metadata": {}
        }
      ]
    },
    {
      "cell_type": "markdown",
      "source": [
        "# 3- Criando um novo tipo de entidade no SpaCy\n",
        "Aqui o modelo não identificou a data.\n",
        "\n",
        "O spaCy permite re-treinar o modelo com novos dados melhorar o modelo e até gerar modelos novos.\n",
        "\n",
        "Como a entidade data não foi identificada, podemos inserir alguns exemplos e re-treinar o algoritmo para que este aprenda novos padrões."
      ],
      "metadata": {
        "id": "13rx0eFFZ_W6"
      }
    },
    {
      "cell_type": "code",
      "source": [
        "import random"
      ],
      "metadata": {
        "id": "WeYW2cjIZ-RJ"
      },
      "execution_count": 8,
      "outputs": []
    },
    {
      "cell_type": "code",
      "source": [
        "TRAIN_DATA = [\n",
        "    (\"Almira é uma ótima pessoa, gosto muito dela\", {\"entities\": [(0, 6, \"PER\")]}),\n",
        "    (\"João foi para Campo Grande nas férias\", {\"entities\": [(14, 26, \"LOC\"), (0, 4, \"PER\")]}),\n",
        "    (\"Carlos foi visitar João na casa de praia\", {\"entities\": [(0, 6, \"PER\"), (19, 23, \"PER\")]}),\n",
        "    (\"No meio do ano irei para São Paulo fazer mais um curso\", {\"entities\": [(25, 34, \"LOC\")]}),\n",
        "    (\"O sonho dela era ir para Austrália visitar seu irmão\", {\"entities\": [(25, 34, \"LOC\")]}),\n",
        "    (\"Em 15/07/1988 nasceu essa linda criança\", {\"entities\": [(3, 13, \"DATE\"), (18, 24, \"LOC\")]}),\n",
        "    (\"Data de prisão: 10/01/2018\", {\"entities\": [(16, 26, \"DATE\")]}),\n",
        "    (\"No dia 01/02/2016 foi decretada a sentença\", {\"entities\": [(7, 17, \"DATE\")]}),\n",
        "    (\"A data da festa foi 07/05/2018\", {\"entities\": [(20, 30, \"DATE\")]}),\n",
        "    (\"Dia 07/06/2020 choveu pela manhã\", {\"entities\": [(4, 14, \"DATE\")]}),\n",
        "    (\"Michael Jackson nasceu dia 29/08/1958\", {\"entities\": [(0, 15, \"PER\"), ( 27, 37, \"DATE\")]}),\n",
        "    (\"A viagem foi marcada para o dia 21/03/2021\", {\"entities\": [(32, 42, \"DATE\")]}),\n",
        "    (\"O casamento, que era dia 12/06/2020, foi adiado para o dia 20/07/2020\", {\"entities\": [(25, 35, \"DATE\"), (59, 68, \"DATE\")]}),\n",
        "    (\"Dia 21/04/2020 foi feriado\", {\"entities\": [(4, 14, \"DATE\")]}),\n",
        "    (\"A entrega foi realizada na manhã do dia 18/03/2020 \", {\"entities\": [(40, 50, \"DATE\")]}),\n",
        "    (\"Na noite do dia 17/05/2019 aconteceu um eclipse\", {\"entities\": [(16, 26, \"DATE\")]}),\n",
        "    (\"Rio de Janeiro é a capital do Rio de Janeiro\", {\"entities\": [(0, 14, \"LOC\"), (30, 44, \"LOC\")]})\n",
        "]"
      ],
      "metadata": {
        "id": "xKHXFhWaaibj"
      },
      "execution_count": 9,
      "outputs": []
    },
    {
      "cell_type": "code",
      "source": [
        "import pandas as pd\n",
        "import os\n",
        "from tqdm import tqdm\n",
        "import spacy\n",
        "from spacy.tokens import DocBin\n",
        "\n",
        "nlp = spacy.load(\"en_core_web_sm\")\n",
        "\n",
        "db = DocBin()\n",
        "\n",
        "for text, annot in tqdm(TRAIN_DATA):\n",
        "    doc = nlp.make_doc(text)\n",
        "    ents = []\n",
        "    for start, end, label in annot[\"entities\"]:\n",
        "        span = doc.char_span(start, end, label=label, alignment_mode=\"contract\")\n",
        "        if span is None:\n",
        "            print(\"Skipping entity\")\n",
        "        else:\n",
        "            ents.append(span)\n",
        "    doc.ents = ents\n",
        "    db.add(doc)\n",
        "\n",
        "os.chdir(r'/content')\n",
        "db.to_disk(\"./train.spacy\") # salvando o objeto"
      ],
      "metadata": {
        "colab": {
          "base_uri": "https://localhost:8080/"
        },
        "id": "Cre3rg6Gni6V",
        "outputId": "58fbe79a-0343-4117-ba4b-e5a14174dbce"
      },
      "execution_count": 10,
      "outputs": [
        {
          "output_type": "stream",
          "name": "stderr",
          "text": [
            "100%|██████████| 17/17 [00:00<00:00, 1025.25it/s]"
          ]
        },
        {
          "output_type": "stream",
          "name": "stdout",
          "text": [
            "Skipping entity\n",
            "Skipping entity\n"
          ]
        },
        {
          "output_type": "stream",
          "name": "stderr",
          "text": [
            "\n"
          ]
        }
      ]
    },
    {
      "cell_type": "code",
      "source": [
        "!python -m spacy init fill-config base_config.cfg config.cfg"
      ],
      "metadata": {
        "colab": {
          "base_uri": "https://localhost:8080/"
        },
        "id": "pXCQFMr2uucp",
        "outputId": "8eee484e-22d8-4add-b89e-df9c6c91321d"
      },
      "execution_count": 14,
      "outputs": [
        {
          "output_type": "stream",
          "name": "stdout",
          "text": [
            "\u001b[38;5;2m✔ Auto-filled config with all values\u001b[0m\n",
            "\u001b[38;5;2m✔ Saved config\u001b[0m\n",
            "config.cfg\n",
            "You can now add your data and train your pipeline:\n",
            "python -m spacy train config.cfg --paths.train ./train.spacy --paths.dev ./dev.spacy\n"
          ]
        }
      ]
    },
    {
      "cell_type": "code",
      "source": [
        "!python -m spacy train config.cfg --output ./output --paths.train ./train.spacy --paths.dev ./train.spacy"
      ],
      "metadata": {
        "colab": {
          "base_uri": "https://localhost:8080/"
        },
        "id": "W1xh4gakxeWd",
        "outputId": "abf1e2c2-f15f-4ec2-fc59-1665fe270c47"
      },
      "execution_count": 15,
      "outputs": [
        {
          "output_type": "stream",
          "name": "stdout",
          "text": [
            "\u001b[38;5;2m✔ Created output directory: output\u001b[0m\n",
            "\u001b[38;5;4mℹ Saving to output directory: output\u001b[0m\n",
            "\u001b[38;5;4mℹ Using CPU\u001b[0m\n",
            "\u001b[1m\n",
            "=========================== Initializing pipeline ===========================\u001b[0m\n",
            "\u001b[38;5;2m✔ Initialized pipeline\u001b[0m\n",
            "\u001b[1m\n",
            "============================= Training pipeline =============================\u001b[0m\n",
            "\u001b[38;5;4mℹ Pipeline: ['tok2vec', 'ner']\u001b[0m\n",
            "\u001b[38;5;4mℹ Initial learn rate: 0.001\u001b[0m\n",
            "E    #       LOSS TOK2VEC  LOSS NER  ENTS_F  ENTS_P  ENTS_R  SCORE \n",
            "---  ------  ------------  --------  ------  ------  ------  ------\n",
            "  0       0          0.00     61.14    0.00    0.00    0.00    0.00\n",
            "148     200         12.28    817.43  100.00  100.00  100.00    1.00\n",
            "348     400          0.00      0.00  100.00  100.00  100.00    1.00\n",
            "548     600          0.00      0.00  100.00  100.00  100.00    1.00\n",
            "748     800          0.00      0.00  100.00  100.00  100.00    1.00\n",
            "948    1000          0.00      0.00  100.00  100.00  100.00    1.00\n",
            "1148    1200          0.00      0.00  100.00  100.00  100.00    1.00\n",
            "1348    1400          0.00      0.00  100.00  100.00  100.00    1.00\n",
            "1548    1600          0.00      0.00  100.00  100.00  100.00    1.00\n",
            "1748    1800          0.00      0.00  100.00  100.00  100.00    1.00\n",
            "\u001b[38;5;2m✔ Saved pipeline to output directory\u001b[0m\n",
            "output/model-last\n"
          ]
        }
      ]
    },
    {
      "cell_type": "code",
      "source": [
        "nlp1 = spacy.load(r\"/content/output/model-best\")\n",
        "doc = nlp1(\"Luana nasceu em Campo Grande em 31/05/2023\")\n",
        "\n",
        "spacy.displacy.render(doc, style=\"ent\", jupyter=True)"
      ],
      "metadata": {
        "colab": {
          "base_uri": "https://localhost:8080/",
          "height": 52
        },
        "id": "oumOla6nyelB",
        "outputId": "4a896159-7dec-49f5-8847-1392c7604090"
      },
      "execution_count": 37,
      "outputs": [
        {
          "output_type": "display_data",
          "data": {
            "text/plain": [
              "<IPython.core.display.HTML object>"
            ],
            "text/html": [
              "<span class=\"tex2jax_ignore\"><div class=\"entities\" style=\"line-height: 2.5; direction: ltr\">\n",
              "<mark class=\"entity\" style=\"background: #ddd; padding: 0.45em 0.6em; margin: 0 0.25em; line-height: 1; border-radius: 0.35em;\">\n",
              "    Luana\n",
              "    <span style=\"font-size: 0.8em; font-weight: bold; line-height: 1; border-radius: 0.35em; vertical-align: middle; margin-left: 0.5rem\">PER</span>\n",
              "</mark>\n",
              " nasceu em \n",
              "<mark class=\"entity\" style=\"background: #ff9561; padding: 0.45em 0.6em; margin: 0 0.25em; line-height: 1; border-radius: 0.35em;\">\n",
              "    Campo Grande\n",
              "    <span style=\"font-size: 0.8em; font-weight: bold; line-height: 1; border-radius: 0.35em; vertical-align: middle; margin-left: 0.5rem\">LOC</span>\n",
              "</mark>\n",
              " em \n",
              "<mark class=\"entity\" style=\"background: #bfe1d9; padding: 0.45em 0.6em; margin: 0 0.25em; line-height: 1; border-radius: 0.35em;\">\n",
              "    31/05/2023\n",
              "    <span style=\"font-size: 0.8em; font-weight: bold; line-height: 1; border-radius: 0.35em; vertical-align: middle; margin-left: 0.5rem\">DATE</span>\n",
              "</mark>\n",
              "</div></span>"
            ]
          },
          "metadata": {}
        }
      ]
    },
    {
      "cell_type": "code",
      "source": [
        "doc = nlp1(\"Paulo e Lucas são amigos desde 10/01/1998\")\n",
        "spacy.displacy.render(doc, style=\"ent\", jupyter=True)"
      ],
      "metadata": {
        "colab": {
          "base_uri": "https://localhost:8080/",
          "height": 52
        },
        "id": "1SK-1JDD0mRZ",
        "outputId": "51e09eef-66ae-409f-c6a6-440e62125104"
      },
      "execution_count": 43,
      "outputs": [
        {
          "output_type": "display_data",
          "data": {
            "text/plain": [
              "<IPython.core.display.HTML object>"
            ],
            "text/html": [
              "<span class=\"tex2jax_ignore\"><div class=\"entities\" style=\"line-height: 2.5; direction: ltr\">\n",
              "<mark class=\"entity\" style=\"background: #ddd; padding: 0.45em 0.6em; margin: 0 0.25em; line-height: 1; border-radius: 0.35em;\">\n",
              "    Paulo\n",
              "    <span style=\"font-size: 0.8em; font-weight: bold; line-height: 1; border-radius: 0.35em; vertical-align: middle; margin-left: 0.5rem\">PER</span>\n",
              "</mark>\n",
              " e \n",
              "<mark class=\"entity\" style=\"background: #ddd; padding: 0.45em 0.6em; margin: 0 0.25em; line-height: 1; border-radius: 0.35em;\">\n",
              "    Lucas\n",
              "    <span style=\"font-size: 0.8em; font-weight: bold; line-height: 1; border-radius: 0.35em; vertical-align: middle; margin-left: 0.5rem\">PER</span>\n",
              "</mark>\n",
              " são amigos desde \n",
              "<mark class=\"entity\" style=\"background: #bfe1d9; padding: 0.45em 0.6em; margin: 0 0.25em; line-height: 1; border-radius: 0.35em;\">\n",
              "    10/01/1998\n",
              "    <span style=\"font-size: 0.8em; font-weight: bold; line-height: 1; border-radius: 0.35em; vertical-align: middle; margin-left: 0.5rem\">DATE</span>\n",
              "</mark>\n",
              "</div></span>"
            ]
          },
          "metadata": {}
        }
      ]
    },
    {
      "cell_type": "markdown",
      "source": [
        "# Matcher\n",
        "Agora vamos usar o matcher para adicionar padrões que serão encontrados no texto de acondo com o shape do token."
      ],
      "metadata": {
        "id": "AaT8fJQ3hHSF"
      }
    },
    {
      "cell_type": "code",
      "source": [
        "from spacy.matcher import Matcher\n",
        "\n",
        "texto = \"\"\"\n",
        "Meu número é (11) 98765 - 3333 ou sem espaço (11) 98765-4444 e o número do meu amigo é 55 11 8765 5555.\n",
        " Caso necessario entre em contato via email pelo miau@gmail.com.\n",
        "\"\"\"\n",
        "doc = nlp1(texto) # isso foi necessário pois o matcher le documentos ja processados pelo spacy e nao texto puro\n",
        "\n",
        "matcher1 = Matcher(nlp1.vocab)\n",
        "\n",
        "# Definir padrões para combinar números de telefone\n",
        "patterns = [\n",
        "    [{\"TEXT\": \"(\"}, {\"SHAPE\": \"dd\"}, {\"TEXT\": \")\"}, {\"SHAPE\": \"dddd\"}, {\"TEXT\": \"-\"}, {\"SHAPE\": \"dddd\"}],  # (11) 9876-5555\n",
        "    [{\"TEXT\": \"(\"}, {\"SHAPE\": \"dd\"}, {\"TEXT\": \")\"},{\"SHAPE\": \"dddd-dddd\"}],  # (11) 98765-4444\n",
        "    [{\"SHAPE\": \"dd\"}, {\"SHAPE\": \"dd\"}, {\"SHAPE\": \"dddd\"}, {\"SHAPE\": \"dddd\"}],   # 55 11 8765 5555\n",
        "\n",
        "]\n",
        "# Definir padrões para emails\n",
        "email_pattern = [{'TEXT': {'REGEX': '[a-zA-Z0-9._%+-]+@[a-zA-Z0-9.-]+\\\\.[a-zA-Z]{2,}'}},]\n",
        "matcher1.add('Regra A', [email_pattern])\n",
        "\n",
        "\n",
        "\n",
        "# Adicionar os padrões ao matcher\n",
        "for pattern in patterns:\n",
        "    matcher1.add(\"PHONE_NUMBER\", [pattern])\n",
        "\n",
        "# Dando uma olhada no shape_\n",
        "matches = matcher1(doc)\n",
        "for token in doc:\n",
        "    print(token.text, token.shape_,\"---------------\")\n",
        "# Extrair e imprimir os números de telefone correspondentes\n",
        "phone_numbers = [doc[start:end].text for match_id, start, end in matches]\n",
        "print(\"Matches extraídos:\", phone_numbers)\n"
      ],
      "metadata": {
        "id": "wJ-O8FaQzKk4",
        "colab": {
          "base_uri": "https://localhost:8080/"
        },
        "outputId": "77c66a5d-7426-4ead-e185-9eea17339356"
      },
      "execution_count": 18,
      "outputs": [
        {
          "output_type": "stream",
          "name": "stdout",
          "text": [
            "\n",
            " \n",
            " ---------------\n",
            "Meu Xxx ---------------\n",
            "número xxxx ---------------\n",
            "é x ---------------\n",
            "( ( ---------------\n",
            "11 dd ---------------\n",
            ") ) ---------------\n",
            "98765 dddd ---------------\n",
            "- - ---------------\n",
            "3333 dddd ---------------\n",
            "ou xx ---------------\n",
            "sem xxx ---------------\n",
            "espaço xxxx ---------------\n",
            "( ( ---------------\n",
            "11 dd ---------------\n",
            ") ) ---------------\n",
            "98765-4444 dddd-dddd ---------------\n",
            "e x ---------------\n",
            "o x ---------------\n",
            "número xxxx ---------------\n",
            "do xx ---------------\n",
            "meu xxx ---------------\n",
            "amigo xxxx ---------------\n",
            "é x ---------------\n",
            "55 dd ---------------\n",
            "11 dd ---------------\n",
            "8765 dddd ---------------\n",
            "5555 dddd ---------------\n",
            ". . ---------------\n",
            "\n",
            "  \n",
            "  ---------------\n",
            "Caso Xxxx ---------------\n",
            "necessario xxxx ---------------\n",
            "entre xxxx ---------------\n",
            "em xx ---------------\n",
            "contato xxxx ---------------\n",
            "via xxx ---------------\n",
            "email xxxx ---------------\n",
            "pelo xxxx ---------------\n",
            "miau@gmail.com xxxx@xxxx.xxx ---------------\n",
            ". . ---------------\n",
            "\n",
            " \n",
            " ---------------\n",
            "Matches extraídos: ['(11) 98765 - 3333', '(11) 98765-4444', '55 11 8765 5555', 'miau@gmail.com']\n"
          ]
        }
      ]
    },
    {
      "cell_type": "code",
      "source": [
        "nlp2 = spacy.load(\"pt_core_news_sm\")\n",
        "texto = \"\"\"Ana comeu batatas.\n",
        "Pedro foi ao cinema com Joana.\n",
        "Ontem encontrei uma amiga no Shopping.\n",
        "Ana irá viajar na próxima semana\"\"\"\n",
        "doc = nlp2(texto)"
      ],
      "metadata": {
        "id": "H5JN1-w3iJYN"
      },
      "execution_count": 19,
      "outputs": []
    },
    {
      "cell_type": "code",
      "source": [
        "for token in doc:\n",
        "    print(token.text, token.pos_,token.morph)"
      ],
      "metadata": {
        "colab": {
          "base_uri": "https://localhost:8080/"
        },
        "id": "zVfXzXQSoJ_K",
        "outputId": "882c42a7-ceb4-4fe8-bd40-3ce8ea446246"
      },
      "execution_count": 20,
      "outputs": [
        {
          "output_type": "stream",
          "name": "stdout",
          "text": [
            "Ana PROPN Gender=Fem|Number=Sing\n",
            "comeu VERB Mood=Sub|Number=Plur|Person=3|Tense=Pres|VerbForm=Fin\n",
            "batatas NOUN Gender=Fem|Number=Plur\n",
            ". PUNCT \n",
            "\n",
            " SPACE \n",
            "Pedro PROPN Gender=Masc|Number=Sing\n",
            "foi VERB Mood=Ind|Number=Sing|Person=3|Tense=Past|VerbForm=Fin\n",
            "ao ADP Definite=Def|Gender=Masc|Number=Sing|PronType=Art\n",
            "cinema NOUN Gender=Masc|Number=Sing\n",
            "com ADP \n",
            "Joana PROPN Gender=Fem|Number=Sing\n",
            ". PUNCT \n",
            "\n",
            " SPACE \n",
            "Ontem ADV \n",
            "encontrei VERB Mood=Ind|Number=Sing|Person=1|Tense=Past|VerbForm=Fin\n",
            "uma DET Definite=Ind|Gender=Fem|Number=Sing|PronType=Art\n",
            "amiga NOUN Gender=Fem|Number=Sing\n",
            "no ADP Definite=Def|Gender=Masc|Number=Sing|PronType=Art\n",
            "Shopping PROPN Gender=Masc|Number=Sing\n",
            ". PUNCT \n",
            "\n",
            " SPACE \n",
            "Ana PROPN Gender=Fem|Number=Sing\n",
            "irá AUX Mood=Ind|Number=Sing|Person=3|Tense=Fut|VerbForm=Fin\n",
            "viajar VERB VerbForm=Inf\n",
            "na ADP Definite=Def|Gender=Fem|Number=Sing|PronType=Art\n",
            "próxima ADJ Gender=Fem|Number=Sing\n",
            "semana NOUN Gender=Fem|Number=Sing\n"
          ]
        }
      ]
    },
    {
      "cell_type": "markdown",
      "source": [
        "Agora usaremos o matcher para selecionar parte do discurso de acordo com a classificação morfológica, sintática e padrões especificos"
      ],
      "metadata": {
        "id": "3ELlu7V-xs0D"
      }
    },
    {
      "cell_type": "code",
      "source": [
        "#Aqui vamos criar uma regra para pegar apenas a senteça realizada por uma mulher que esteja no passado\n",
        "patern_past_fem = [{'POS':'PROPN', 'MORPH':{'IS_SUPERSET':[\"Gender=Fem\"]}},\n",
        "                   {'MORPH':{'IS_SUPERSET':['Tense=Pres']}},\n",
        "                   {'OP':'?'},\n",
        "                   {'POS':'NOUN'}\n",
        "                   ]"
      ],
      "metadata": {
        "id": "D2Mi-jQhirSH"
      },
      "execution_count": 21,
      "outputs": []
    },
    {
      "cell_type": "code",
      "source": [
        "matcher2 = Matcher(nlp2.vocab)\n",
        "matcher2.add('Regra B', [patern_past_fem])"
      ],
      "metadata": {
        "id": "D1qkAv8amWnt"
      },
      "execution_count": 22,
      "outputs": []
    },
    {
      "cell_type": "code",
      "source": [
        "matches = matcher2(doc)\n",
        "for match_id, start, end in matches:\n",
        "  print(doc[start:end].text)"
      ],
      "metadata": {
        "colab": {
          "base_uri": "https://localhost:8080/"
        },
        "id": "FYPy-L4fmk6E",
        "outputId": "af37eded-e673-432a-92fc-dd7530fc6b8a"
      },
      "execution_count": 23,
      "outputs": [
        {
          "output_type": "stream",
          "name": "stdout",
          "text": [
            "Ana comeu batatas\n"
          ]
        }
      ]
    },
    {
      "cell_type": "code",
      "source": [
        "from spacy.scorer import Scorer\n",
        "from spacy.training.example import Example\n",
        "import spacy\n",
        "from spacy.training import Example\n",
        "from spacy.scorer import Scorer\n",
        "from spacy.training import offsets_to_biluo_tags\n",
        "\n",
        "def check_alignment(nlp, text, entities):\n",
        "    doc = nlp.make_doc(text)\n",
        "    biluo_tags = offsets_to_biluo_tags(doc, entities)\n",
        "    if '-' in biluo_tags:\n",
        "        print(f\"Warning: Some entities could not be aligned in the text: {text} with entities: {entities}\")\n",
        "    return biluo_tags\n",
        "\n",
        "def evaluate(ner_model, examples):\n",
        "    scorer = Scorer()\n",
        "    example_objects = []\n",
        "    for input_, annotations in examples:\n",
        "        check_alignment(nlp1, input_, annotations[\"entities\"])\n",
        "        doc = nlp1(input_)\n",
        "        example = Example.from_dict(doc, annotations)\n",
        "        example_objects.append(example)\n",
        "    scores = scorer.score(example_objects)\n",
        "    return scores\n",
        "\n",
        "# Exemplos para avaliação\n",
        "examples = [\n",
        "    (\"Ana comprou um presente para Maria\", {\"entities\": [(0, 3, \"PER\"), (24, 29, \"PER\")]}),\n",
        "    (\"Pedro e Paula viajaram para Nova York\", {\"entities\": [(0, 5, \"PER\"), (8, 13, \"PER\"), (27, 36, \"LOC\")]}),\n",
        "    (\"Luiz e Carla vão ao cinema\", {\"entities\": [(0, 4, \"PER\"), (7, 12, \"PER\")]}),\n",
        "    (\"Marcelo mora em Belo Horizonte\", {\"entities\": [(0, 7, \"PER\"), (16, 30, \"LOC\")]}),\n",
        "    (\"Irei visitar o Rio de Janeiro nas férias\", {\"entities\": [(15, 29, \"LOC\")]}),\n",
        "    (\"O evento ocorrerá em 25/12/2022\", {\"entities\": [(20, 30, \"DATE\")]}),\n",
        "    (\"Mariana viajou para Paris em março\", {\"entities\": [(0, 7, \"PER\"), (19, 24, \"LOC\")]}),\n",
        "    (\"A reunião está marcada para 10/10/2021\", {\"entities\": [(30, 40, \"DATE\")]}),\n",
        "    (\"Fui ao show do Paul McCartney\", {\"entities\": [(15, 29, \"PER\")]}),\n",
        "    (\"Carlos e Ana foram para a Alemanha\", {\"entities\": [(0, 6, \"PER\"), (9, 12, \"PER\"), (26, 33, \"LOC\")]}),\n",
        "    (\"O projeto deve ser concluído em 01/07/2022\", {\"entities\": [(31, 41, \"DATE\")]}),\n",
        "    (\"Carla visitou Lisboa no verão\", {\"entities\": [(0, 5, \"PER\"), (14, 20, \"LOC\")]}),\n",
        "    (\"O festival acontecerá em 15/08/2023\", {\"entities\": [(23, 33, \"DATE\")]}),\n",
        "    (\"Paulo nasceu em 05/04/1995\", {\"entities\": [(0, 5, \"PER\"), (14, 24, \"DATE\")]}),\n",
        "    (\"Maria foi ao parque Ibirapuera\", {\"entities\": [(0, 5, \"PER\"), (18, 28, \"LOC\")]}),\n",
        "    (\"A viagem para Buenos Aires foi inesquecível\", {\"entities\": [(13, 25, \"LOC\")]}),\n",
        "    (\"O museu abre em 20/09/2024\", {\"entities\": [(16, 26, \"DATE\")]}),\n",
        "    (\"Joana adora o Rio de Janeiro\", {\"entities\": [(0, 5, \"PER\"), (14, 28, \"LOC\")]}),\n",
        "    (\"A conferência será em 30/11/2021\", {\"entities\": [(22, 32, \"DATE\")]}),\n",
        "    (\"Leonardo passou as férias em Roma\", {\"entities\": [(0, 8, \"PER\"), (29, 33, \"LOC\")]}),\n",
        "    (\"A exposição vai até 15/06/2022\", {\"entities\": [(20, 30, \"DATE\")]}),\n",
        "    (\"Sara e Luiz foram para Paris\", {\"entities\": [(0, 4, \"PER\"), (7, 11, \"PER\"), (23, 28, \"LOC\")]}),\n",
        "    (\"O show do Coldplay será em 05/12/2021\", {\"entities\": [(23, 33, \"DATE\")]}),\n",
        "    (\"Marcela nasceu no Rio de Janeiro\", {\"entities\": [(0, 7, \"PER\"), (18, 32, \"LOC\")]}),\n",
        "    (\"A final do campeonato será em 10/03/2024\", {\"entities\": [(29, 39, \"DATE\")]}),\n",
        "\n",
        "]\n",
        "\n",
        "# Avalia o modelo\n",
        "results = evaluate(nlp1, examples)\n",
        "\n",
        "# Aqui você pode imprimir os resultados\n",
        "for key, value in results.items():\n",
        "    print(f\"{key}: {value}\")\n"
      ],
      "metadata": {
        "id": "dIVm930pmxVH",
        "colab": {
          "base_uri": "https://localhost:8080/"
        },
        "outputId": "8ba40f26-81b9-4e94-cdcf-66f213e94c34"
      },
      "execution_count": 47,
      "outputs": [
        {
          "output_type": "stream",
          "name": "stdout",
          "text": [
            "Warning: Some entities could not be aligned in the text: Ana comprou um presente para Maria with entities: [(0, 3, 'PER'), (24, 29, 'PER')]\n",
            "Warning: Some entities could not be aligned in the text: Pedro e Paula viajaram para Nova York with entities: [(0, 5, 'PER'), (8, 13, 'PER'), (27, 36, 'LOC')]\n",
            "Warning: Some entities could not be aligned in the text: O evento ocorrerá em 25/12/2022 with entities: [(20, 30, 'DATE')]\n",
            "Warning: Some entities could not be aligned in the text: Mariana viajou para Paris em março with entities: [(0, 7, 'PER'), (19, 24, 'LOC')]\n",
            "Warning: Some entities could not be aligned in the text: A reunião está marcada para 10/10/2021 with entities: [(30, 40, 'DATE')]\n",
            "Warning: Some entities could not be aligned in the text: Carlos e Ana foram para a Alemanha with entities: [(0, 6, 'PER'), (9, 12, 'PER'), (26, 33, 'LOC')]\n",
            "Warning: Some entities could not be aligned in the text: O projeto deve ser concluído em 01/07/2022 with entities: [(31, 41, 'DATE')]\n",
            "Warning: Some entities could not be aligned in the text: O festival acontecerá em 15/08/2023 with entities: [(23, 33, 'DATE')]\n",
            "Warning: Some entities could not be aligned in the text: Paulo nasceu em 05/04/1995 with entities: [(0, 5, 'PER'), (14, 24, 'DATE')]\n",
            "Warning: Some entities could not be aligned in the text: Maria foi ao parque Ibirapuera with entities: [(0, 5, 'PER'), (18, 28, 'LOC')]\n",
            "Warning: Some entities could not be aligned in the text: A viagem para Buenos Aires foi inesquecível with entities: [(13, 25, 'LOC')]\n",
            "Warning: Some entities could not be aligned in the text: O show do Coldplay será em 05/12/2021 with entities: [(23, 33, 'DATE')]\n",
            "Warning: Some entities could not be aligned in the text: A final do campeonato será em 10/03/2024 with entities: [(29, 39, 'DATE')]\n",
            "token_acc: 1.0\n",
            "token_p: 1.0\n",
            "token_r: 1.0\n",
            "token_f: 1.0\n",
            "sents_p: None\n",
            "sents_r: None\n",
            "sents_f: None\n",
            "tag_acc: None\n",
            "pos_acc: None\n",
            "morph_acc: None\n",
            "morph_micro_p: None\n",
            "morph_micro_r: None\n",
            "morph_micro_f: None\n",
            "morph_per_feat: None\n",
            "dep_uas: None\n",
            "dep_las: None\n",
            "dep_las_per_type: None\n",
            "ents_p: 0.7692307692307693\n",
            "ents_r: 0.7142857142857143\n",
            "ents_f: 0.7407407407407408\n",
            "ents_per_type: {'LOC': {'p': 0.5714285714285714, 'r': 0.5714285714285714, 'f': 0.5714285714285714}, 'PER': {'p': 0.8125, 'r': 0.7222222222222222, 'f': 0.7647058823529411}, 'DATE': {'p': 1.0, 'r': 1.0, 'f': 1.0}}\n",
            "cats_score: 0.0\n",
            "cats_score_desc: macro F\n",
            "cats_micro_p: 0.0\n",
            "cats_micro_r: 0.0\n",
            "cats_micro_f: 0.0\n",
            "cats_macro_p: 0.0\n",
            "cats_macro_r: 0.0\n",
            "cats_macro_f: 0.0\n",
            "cats_macro_auc: 0.0\n",
            "cats_f_per_type: {}\n",
            "cats_auc_per_type: {}\n"
          ]
        },
        {
          "output_type": "stream",
          "name": "stderr",
          "text": [
            "/usr/local/lib/python3.10/dist-packages/spacy/training/iob_utils.py:149: UserWarning: [W030] Some entities could not be aligned in the text \"Ana comprou um presente para Maria\" with entities \"[(0, 3, 'PER'), (24, 29, 'PER')]\". Use `spacy.training.offsets_to_biluo_tags(nlp.make_doc(text), entities)` to check the alignment. Misaligned entities ('-') will be ignored during training.\n",
            "  warnings.warn(\n",
            "/usr/local/lib/python3.10/dist-packages/spacy/training/iob_utils.py:149: UserWarning: [W030] Some entities could not be aligned in the text \"Pedro e Paula viajaram para Nova York\" with entities \"[(0, 5, 'PER'), (8, 13, 'PER'), (27, 36, 'LOC')]\". Use `spacy.training.offsets_to_biluo_tags(nlp.make_doc(text), entities)` to check the alignment. Misaligned entities ('-') will be ignored during training.\n",
            "  warnings.warn(\n",
            "/usr/local/lib/python3.10/dist-packages/spacy/training/iob_utils.py:149: UserWarning: [W030] Some entities could not be aligned in the text \"O evento ocorrerá em 25/12/2022\" with entities \"[(20, 30, 'DATE')]\". Use `spacy.training.offsets_to_biluo_tags(nlp.make_doc(text), entities)` to check the alignment. Misaligned entities ('-') will be ignored during training.\n",
            "  warnings.warn(\n",
            "/usr/local/lib/python3.10/dist-packages/spacy/training/iob_utils.py:149: UserWarning: [W030] Some entities could not be aligned in the text \"Mariana viajou para Paris em março\" with entities \"[(0, 7, 'PER'), (19, 24, 'LOC')]\". Use `spacy.training.offsets_to_biluo_tags(nlp.make_doc(text), entities)` to check the alignment. Misaligned entities ('-') will be ignored during training.\n",
            "  warnings.warn(\n",
            "/usr/local/lib/python3.10/dist-packages/spacy/training/iob_utils.py:149: UserWarning: [W030] Some entities could not be aligned in the text \"A reunião está marcada para 10/10/2021\" with entities \"[(30, 40, 'DATE')]\". Use `spacy.training.offsets_to_biluo_tags(nlp.make_doc(text), entities)` to check the alignment. Misaligned entities ('-') will be ignored during training.\n",
            "  warnings.warn(\n",
            "/usr/local/lib/python3.10/dist-packages/spacy/training/iob_utils.py:149: UserWarning: [W030] Some entities could not be aligned in the text \"Carlos e Ana foram para a Alemanha\" with entities \"[(0, 6, 'PER'), (9, 12, 'PER'), (26, 33, 'LOC')]\". Use `spacy.training.offsets_to_biluo_tags(nlp.make_doc(text), entities)` to check the alignment. Misaligned entities ('-') will be ignored during training.\n",
            "  warnings.warn(\n",
            "/usr/local/lib/python3.10/dist-packages/spacy/training/iob_utils.py:149: UserWarning: [W030] Some entities could not be aligned in the text \"O projeto deve ser concluído em 01/07/2022\" with entities \"[(31, 41, 'DATE')]\". Use `spacy.training.offsets_to_biluo_tags(nlp.make_doc(text), entities)` to check the alignment. Misaligned entities ('-') will be ignored during training.\n",
            "  warnings.warn(\n",
            "/usr/local/lib/python3.10/dist-packages/spacy/training/iob_utils.py:149: UserWarning: [W030] Some entities could not be aligned in the text \"O festival acontecerá em 15/08/2023\" with entities \"[(23, 33, 'DATE')]\". Use `spacy.training.offsets_to_biluo_tags(nlp.make_doc(text), entities)` to check the alignment. Misaligned entities ('-') will be ignored during training.\n",
            "  warnings.warn(\n",
            "/usr/local/lib/python3.10/dist-packages/spacy/training/iob_utils.py:149: UserWarning: [W030] Some entities could not be aligned in the text \"Paulo nasceu em 05/04/1995\" with entities \"[(0, 5, 'PER'), (14, 24, 'DATE')]\". Use `spacy.training.offsets_to_biluo_tags(nlp.make_doc(text), entities)` to check the alignment. Misaligned entities ('-') will be ignored during training.\n",
            "  warnings.warn(\n",
            "/usr/local/lib/python3.10/dist-packages/spacy/training/iob_utils.py:149: UserWarning: [W030] Some entities could not be aligned in the text \"Maria foi ao parque Ibirapuera\" with entities \"[(0, 5, 'PER'), (18, 28, 'LOC')]\". Use `spacy.training.offsets_to_biluo_tags(nlp.make_doc(text), entities)` to check the alignment. Misaligned entities ('-') will be ignored during training.\n",
            "  warnings.warn(\n",
            "/usr/local/lib/python3.10/dist-packages/spacy/training/iob_utils.py:149: UserWarning: [W030] Some entities could not be aligned in the text \"A viagem para Buenos Aires foi inesquecível\" with entities \"[(13, 25, 'LOC')]\". Use `spacy.training.offsets_to_biluo_tags(nlp.make_doc(text), entities)` to check the alignment. Misaligned entities ('-') will be ignored during training.\n",
            "  warnings.warn(\n",
            "/usr/local/lib/python3.10/dist-packages/spacy/training/iob_utils.py:149: UserWarning: [W030] Some entities could not be aligned in the text \"O show do Coldplay será em 05/12/2021\" with entities \"[(23, 33, 'DATE')]\". Use `spacy.training.offsets_to_biluo_tags(nlp.make_doc(text), entities)` to check the alignment. Misaligned entities ('-') will be ignored during training.\n",
            "  warnings.warn(\n",
            "/usr/local/lib/python3.10/dist-packages/spacy/training/iob_utils.py:149: UserWarning: [W030] Some entities could not be aligned in the text \"A final do campeonato será em 10/03/2024\" with entities \"[(29, 39, 'DATE')]\". Use `spacy.training.offsets_to_biluo_tags(nlp.make_doc(text), entities)` to check the alignment. Misaligned entities ('-') will be ignored during training.\n",
            "  warnings.warn(\n"
          ]
        }
      ]
    },
    {
      "cell_type": "code",
      "source": [
        "from collections import defaultdict\n",
        "\n",
        "def evaluate_with_confusion_matrix(ner_model, examples):\n",
        "    confusion_matrix = defaultdict(lambda: {'TP': 0, 'FP': 0, 'FN': 0})\n",
        "    for input_, annotations in examples:\n",
        "        doc = ner_model(input_)\n",
        "        # Entidades previstas pelo modelo\n",
        "        predicted_entities = [(ent.start_char, ent.end_char, ent.label_) for ent in doc.ents]\n",
        "        # Entidades verdadeiras do exemplo\n",
        "        true_entities = annotations['entities']\n",
        "\n",
        "        # Calcula TP, FP e FN para cada tipo de entidade\n",
        "        for true_ent in true_entities:\n",
        "            if true_ent in predicted_entities:\n",
        "                # Verdadeiro positivo\n",
        "                confusion_matrix[true_ent[2]]['TP'] += 1\n",
        "                # Remove para evitar dupla contagem\n",
        "                predicted_entities.remove(true_ent)\n",
        "            else:\n",
        "                # Falso negativo\n",
        "                confusion_matrix[true_ent[2]]['FN'] += 1\n",
        "\n",
        "        # Conta falsos positivos para as entidades previstas, mas não presentes no exemplo\n",
        "        for pred_ent in predicted_entities:\n",
        "            confusion_matrix[pred_ent[2]]['FP'] += 1\n",
        "\n",
        "    # Calcula precisão, recall e F1 para cada tipo de entidade\n",
        "    for ent_type, counts in confusion_matrix.items():\n",
        "        TP = counts['TP']\n",
        "        FP = counts['FP']\n",
        "        FN = counts['FN']\n",
        "        precision = TP / (TP + FP) if TP + FP > 0 else 0\n",
        "        recall = TP / (TP + FN) if TP + FN > 0 else 0\n",
        "        f1 = 2 * (precision * recall) / (precision + recall) if precision + recall > 0 else 0\n",
        "        confusion_matrix[ent_type]['precision'] = precision\n",
        "        confusion_matrix[ent_type]['recall'] = recall\n",
        "        confusion_matrix[ent_type]['f1'] = f1\n",
        "\n",
        "    return confusion_matrix\n",
        "\n",
        "confusion_matrix = evaluate_with_confusion_matrix(nlp1, examples)\n",
        "for ent_type, counts in confusion_matrix.items():\n",
        "    print(f\"Entity type: {ent_type}\")\n",
        "    print(f\"TP: {counts['TP']}, FP: {counts['FP']}, FN: {counts['FN']}\")\n",
        "    print(f\"Precision: {counts['precision']}, Recall: {counts['recall']}, F1: {counts['f1']}\")\n",
        "    print()\n"
      ],
      "metadata": {
        "colab": {
          "base_uri": "https://localhost:8080/"
        },
        "id": "p9Nalvx1i0H9",
        "outputId": "a9261fdf-3997-4f98-942e-e2f239e92c04"
      },
      "execution_count": 48,
      "outputs": [
        {
          "output_type": "stream",
          "name": "stdout",
          "text": [
            "Entity type: PER\n",
            "TP: 13, FP: 3, FN: 6\n",
            "Precision: 0.8125, Recall: 0.6842105263157895, F1: 0.742857142857143\n",
            "\n",
            "Entity type: LOC\n",
            "TP: 4, FP: 7, FN: 8\n",
            "Precision: 0.36363636363636365, Recall: 0.3333333333333333, F1: 0.34782608695652173\n",
            "\n",
            "Entity type: DATE\n",
            "TP: 3, FP: 7, FN: 7\n",
            "Precision: 0.3, Recall: 0.3, F1: 0.3\n",
            "\n"
          ]
        }
      ]
    },
    {
      "cell_type": "code",
      "source": [
        "import matplotlib.pyplot as plt\n",
        "import numpy as np\n",
        "from collections import defaultdict\n",
        "\n",
        "# Função para plotar a matriz de confusão para um tipo de entidade específico\n",
        "def plot_confusion_matrix_for_entity(entity_type, confusion_matrix):\n",
        "    values = np.array([[confusion_matrix[entity_type]['TP'], confusion_matrix[entity_type]['FP']],\n",
        "                       [confusion_matrix[entity_type]['FN'], 0]])  # Não estamos usando os falsos negativos na plotagem\n",
        "    fig, ax = plt.subplots()\n",
        "    im = ax.imshow(values, cmap='Blues')\n",
        "\n",
        "    # Adiciona textos aos quadrados\n",
        "    for i in range(2):\n",
        "        for j in range(2):\n",
        "            text = ax.text(j, i, values[i, j],\n",
        "                           ha=\"center\", va=\"center\", color=\"black\")\n",
        "\n",
        "    ax.set_xticks(np.arange(2))\n",
        "    ax.set_yticks(np.arange(2))\n",
        "    ax.set_xticklabels(['Pred. Positive', 'Pred. Negative'])\n",
        "    ax.set_yticklabels(['True Positive', 'True Negative'])\n",
        "\n",
        "    plt.xlabel('Predicted')\n",
        "    plt.ylabel('True')\n",
        "    plt.title(f'Confusion Matrix for {entity_type}')\n",
        "    plt.xticks(np.arange(2))\n",
        "    plt.yticks(np.arange(2))\n",
        "    plt.gca().invert_yaxis()\n",
        "    plt.show()\n",
        "\n",
        "confusion_matrix = evaluate_with_confusion_matrix(nlp1, examples)\n",
        "for entity_type in confusion_matrix.keys():\n",
        "    plot_confusion_matrix_for_entity(entity_type, confusion_matrix)\n"
      ],
      "metadata": {
        "colab": {
          "base_uri": "https://localhost:8080/",
          "height": 1000
        },
        "id": "Zr9K6g1r2sQh",
        "outputId": "5c8d10e2-c04f-4eea-dd18-078aeda8992c"
      },
      "execution_count": 52,
      "outputs": [
        {
          "output_type": "display_data",
          "data": {
            "text/plain": [
              "<Figure size 640x480 with 1 Axes>"
            ],
            "image/png": "[encoded data removed]"
          },
          "metadata": {}
        },
        {
          "output_type": "display_data",
          "data": {
            "text/plain": [
              "<Figure size 640x480 with 1 Axes>"
            ],
            "image/png": "[encoded data removed]"
          },
          "metadata": {}
        },
        {
          "output_type": "display_data",
          "data": {
            "text/plain": [
              "<Figure size 640x480 with 1 Axes>"
            ],
            "image/png": "[encoded data removed]"
          },
          "metadata": {}
        }
      ]
    },
    {
      "cell_type": "code",
      "source": [],
      "metadata": {
        "id": "ApgnipBu5jpv"
      },
      "execution_count": null,
      "outputs": []
    }
  ]
}