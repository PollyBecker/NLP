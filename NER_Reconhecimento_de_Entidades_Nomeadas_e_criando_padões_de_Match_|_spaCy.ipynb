{
  "nbformat": 4,
  "nbformat_minor": 0,
  "metadata": {
    "colab": {
      "provenance": [],
      "mount_file_id": "1mP29MBkpdcJGbcAWSIRQL4qApqU4U15V",
      "authorship_tag": "ABX9TyMG9R75kWKJA5X1TsSmRQZl",
      "include_colab_link": true
    },
    "kernelspec": {
      "name": "python3",
      "display_name": "Python 3"
    },
    "language_info": {
      "name": "python"
    }
  },
  "cells": [
    {
      "cell_type": "markdown",
      "metadata": {
        "id": "view-in-github",
        "colab_type": "text"
      },
      "source": [
        "<a href=\"https://colab.research.google.com/github/PollyBecker/NLP/blob/main/NER_Reconhecimento_de_Entidades_Nomeadas_e_criando_pad%C3%B5es_de_Match_%7C_spaCy.ipynb\" target=\"_parent\"><img src=\"https://colab.research.google.com/assets/colab-badge.svg\" alt=\"Open In Colab\"/></a>"
      ]
    },
    {
      "cell_type": "markdown",
      "source": [
        "# NER Named Entity Recognition\n",
        "Named Entity Recognition (NER), em Português, Reconhecimento de Entidade Nomeada, é um processo de identificação de entidades predefinidas presentes em um texto, como nome da pessoa, organização, local que já vem pré-definidas no framework spaCy ou entidades que podemos criar com ajuda desta ferramenta.\n",
        "# Matcher\n",
        "O Matcher é uma ferramenta no spaCy que permite encontrar sequências de tokens em um documento com base em padrões que você define. Você pode criar padrões usando atributos como texto, formato de caracteres, parte do discurso, entre outros. O Matcher é útil para identificar padrões específicos no texto, como endereços de e-mail, números de telefone, ou qualquer outro tipo de estrutura que você deseja extrair automaticamente de um texto."
      ],
      "metadata": {
        "id": "mQo9eudz2TWi"
      }
    },
    {
      "cell_type": "markdown",
      "source": [
        "# 1- Instalando o SpaCy\n",
        "\n",
        "https://www.youtube.com/watch?v=2XUhKpH0p4M\n",
        "\n",
        "https://www.youtube.com/watch?v=9mXoGxAn6pM\n",
        "https://spacy.io/models"
      ],
      "metadata": {
        "id": "BnDXYntrYgQz"
      }
    },
    {
      "cell_type": "code",
      "execution_count": null,
      "metadata": {
        "colab": {
          "base_uri": "https://localhost:8080/"
        },
        "id": "EoJ1CwipYJGV",
        "outputId": "115876f7-7464-4ccf-d6e3-49591f3eba14"
      },
      "outputs": [
        {
          "output_type": "stream",
          "name": "stdout",
          "text": [
            "Requirement already satisfied: spacy in /usr/local/lib/python3.10/dist-packages (3.7.4)\n",
            "Requirement already satisfied: spacy-legacy<3.1.0,>=3.0.11 in /usr/local/lib/python3.10/dist-packages (from spacy) (3.0.12)\n",
            "Requirement already satisfied: spacy-loggers<2.0.0,>=1.0.0 in /usr/local/lib/python3.10/dist-packages (from spacy) (1.0.5)\n",
            "Requirement already satisfied: murmurhash<1.1.0,>=0.28.0 in /usr/local/lib/python3.10/dist-packages (from spacy) (1.0.10)\n",
            "Requirement already satisfied: cymem<2.1.0,>=2.0.2 in /usr/local/lib/python3.10/dist-packages (from spacy) (2.0.8)\n",
            "Requirement already satisfied: preshed<3.1.0,>=3.0.2 in /usr/local/lib/python3.10/dist-packages (from spacy) (3.0.9)\n",
            "Requirement already satisfied: thinc<8.3.0,>=8.2.2 in /usr/local/lib/python3.10/dist-packages (from spacy) (8.2.3)\n",
            "Requirement already satisfied: wasabi<1.2.0,>=0.9.1 in /usr/local/lib/python3.10/dist-packages (from spacy) (1.1.2)\n",
            "Requirement already satisfied: srsly<3.0.0,>=2.4.3 in /usr/local/lib/python3.10/dist-packages (from spacy) (2.4.8)\n",
            "Requirement already satisfied: catalogue<2.1.0,>=2.0.6 in /usr/local/lib/python3.10/dist-packages (from spacy) (2.0.10)\n",
            "Requirement already satisfied: weasel<0.4.0,>=0.1.0 in /usr/local/lib/python3.10/dist-packages (from spacy) (0.3.4)\n",
            "Requirement already satisfied: typer<0.10.0,>=0.3.0 in /usr/local/lib/python3.10/dist-packages (from spacy) (0.9.4)\n",
            "Requirement already satisfied: smart-open<7.0.0,>=5.2.1 in /usr/local/lib/python3.10/dist-packages (from spacy) (6.4.0)\n",
            "Requirement already satisfied: tqdm<5.0.0,>=4.38.0 in /usr/local/lib/python3.10/dist-packages (from spacy) (4.66.2)\n",
            "Requirement already satisfied: requests<3.0.0,>=2.13.0 in /usr/local/lib/python3.10/dist-packages (from spacy) (2.31.0)\n",
            "Requirement already satisfied: pydantic!=1.8,!=1.8.1,<3.0.0,>=1.7.4 in /usr/local/lib/python3.10/dist-packages (from spacy) (2.7.0)\n",
            "Requirement already satisfied: jinja2 in /usr/local/lib/python3.10/dist-packages (from spacy) (3.1.3)\n",
            "Requirement already satisfied: setuptools in /usr/local/lib/python3.10/dist-packages (from spacy) (67.7.2)\n",
            "Requirement already satisfied: packaging>=20.0 in /usr/local/lib/python3.10/dist-packages (from spacy) (24.0)\n",
            "Requirement already satisfied: langcodes<4.0.0,>=3.2.0 in /usr/local/lib/python3.10/dist-packages (from spacy) (3.3.0)\n",
            "Requirement already satisfied: numpy>=1.19.0 in /usr/local/lib/python3.10/dist-packages (from spacy) (1.25.2)\n",
            "Requirement already satisfied: annotated-types>=0.4.0 in /usr/local/lib/python3.10/dist-packages (from pydantic!=1.8,!=1.8.1,<3.0.0,>=1.7.4->spacy) (0.6.0)\n",
            "Requirement already satisfied: pydantic-core==2.18.1 in /usr/local/lib/python3.10/dist-packages (from pydantic!=1.8,!=1.8.1,<3.0.0,>=1.7.4->spacy) (2.18.1)\n",
            "Requirement already satisfied: typing-extensions>=4.6.1 in /usr/local/lib/python3.10/dist-packages (from pydantic!=1.8,!=1.8.1,<3.0.0,>=1.7.4->spacy) (4.11.0)\n",
            "Requirement already satisfied: charset-normalizer<4,>=2 in /usr/local/lib/python3.10/dist-packages (from requests<3.0.0,>=2.13.0->spacy) (3.3.2)\n",
            "Requirement already satisfied: idna<4,>=2.5 in /usr/local/lib/python3.10/dist-packages (from requests<3.0.0,>=2.13.0->spacy) (3.7)\n",
            "Requirement already satisfied: urllib3<3,>=1.21.1 in /usr/local/lib/python3.10/dist-packages (from requests<3.0.0,>=2.13.0->spacy) (2.0.7)\n",
            "Requirement already satisfied: certifi>=2017.4.17 in /usr/local/lib/python3.10/dist-packages (from requests<3.0.0,>=2.13.0->spacy) (2024.2.2)\n",
            "Requirement already satisfied: blis<0.8.0,>=0.7.8 in /usr/local/lib/python3.10/dist-packages (from thinc<8.3.0,>=8.2.2->spacy) (0.7.11)\n",
            "Requirement already satisfied: confection<1.0.0,>=0.0.1 in /usr/local/lib/python3.10/dist-packages (from thinc<8.3.0,>=8.2.2->spacy) (0.1.4)\n",
            "Requirement already satisfied: click<9.0.0,>=7.1.1 in /usr/local/lib/python3.10/dist-packages (from typer<0.10.0,>=0.3.0->spacy) (8.1.7)\n",
            "Requirement already satisfied: cloudpathlib<0.17.0,>=0.7.0 in /usr/local/lib/python3.10/dist-packages (from weasel<0.4.0,>=0.1.0->spacy) (0.16.0)\n",
            "Requirement already satisfied: MarkupSafe>=2.0 in /usr/local/lib/python3.10/dist-packages (from jinja2->spacy) (2.1.5)\n"
          ]
        }
      ],
      "source": [
        "!pip install -U spacy"
      ]
    },
    {
      "cell_type": "markdown",
      "source": [
        "# 2- Fazendo o dowload do modelo\n"
      ],
      "metadata": {
        "id": "znq7YQiVY8r0"
      }
    },
    {
      "cell_type": "code",
      "source": [
        "!python -m spacy download pt_core_news_sm"
      ],
      "metadata": {
        "colab": {
          "base_uri": "https://localhost:8080/"
        },
        "id": "G6FryN37Yy-d",
        "outputId": "35707f77-2812-46b3-8371-b0b6c24aa308"
      },
      "execution_count": null,
      "outputs": [
        {
          "output_type": "stream",
          "name": "stdout",
          "text": [
            "Collecting pt-core-news-sm==3.7.0\n",
            "  Downloading https://github.com/explosion/spacy-models/releases/download/pt_core_news_sm-3.7.0/pt_core_news_sm-3.7.0-py3-none-any.whl (13.0 MB)\n",
            "\u001b[2K     \u001b[90m━━━━━━━━━━━━━━━━━━━━━━━━━━━━━━━━━━━━━━━━\u001b[0m \u001b[32m13.0/13.0 MB\u001b[0m \u001b[31m19.3 MB/s\u001b[0m eta \u001b[36m0:00:00\u001b[0m\n",
            "\u001b[?25hRequirement already satisfied: spacy<3.8.0,>=3.7.0 in /usr/local/lib/python3.10/dist-packages (from pt-core-news-sm==3.7.0) (3.7.4)\n",
            "Requirement already satisfied: spacy-legacy<3.1.0,>=3.0.11 in /usr/local/lib/python3.10/dist-packages (from spacy<3.8.0,>=3.7.0->pt-core-news-sm==3.7.0) (3.0.12)\n",
            "Requirement already satisfied: spacy-loggers<2.0.0,>=1.0.0 in /usr/local/lib/python3.10/dist-packages (from spacy<3.8.0,>=3.7.0->pt-core-news-sm==3.7.0) (1.0.5)\n",
            "Requirement already satisfied: murmurhash<1.1.0,>=0.28.0 in /usr/local/lib/python3.10/dist-packages (from spacy<3.8.0,>=3.7.0->pt-core-news-sm==3.7.0) (1.0.10)\n",
            "Requirement already satisfied: cymem<2.1.0,>=2.0.2 in /usr/local/lib/python3.10/dist-packages (from spacy<3.8.0,>=3.7.0->pt-core-news-sm==3.7.0) (2.0.8)\n",
            "Requirement already satisfied: preshed<3.1.0,>=3.0.2 in /usr/local/lib/python3.10/dist-packages (from spacy<3.8.0,>=3.7.0->pt-core-news-sm==3.7.0) (3.0.9)\n",
            "Requirement already satisfied: thinc<8.3.0,>=8.2.2 in /usr/local/lib/python3.10/dist-packages (from spacy<3.8.0,>=3.7.0->pt-core-news-sm==3.7.0) (8.2.3)\n",
            "Requirement already satisfied: wasabi<1.2.0,>=0.9.1 in /usr/local/lib/python3.10/dist-packages (from spacy<3.8.0,>=3.7.0->pt-core-news-sm==3.7.0) (1.1.2)\n",
            "Requirement already satisfied: srsly<3.0.0,>=2.4.3 in /usr/local/lib/python3.10/dist-packages (from spacy<3.8.0,>=3.7.0->pt-core-news-sm==3.7.0) (2.4.8)\n",
            "Requirement already satisfied: catalogue<2.1.0,>=2.0.6 in /usr/local/lib/python3.10/dist-packages (from spacy<3.8.0,>=3.7.0->pt-core-news-sm==3.7.0) (2.0.10)\n",
            "Requirement already satisfied: weasel<0.4.0,>=0.1.0 in /usr/local/lib/python3.10/dist-packages (from spacy<3.8.0,>=3.7.0->pt-core-news-sm==3.7.0) (0.3.4)\n",
            "Requirement already satisfied: typer<0.10.0,>=0.3.0 in /usr/local/lib/python3.10/dist-packages (from spacy<3.8.0,>=3.7.0->pt-core-news-sm==3.7.0) (0.9.4)\n",
            "Requirement already satisfied: smart-open<7.0.0,>=5.2.1 in /usr/local/lib/python3.10/dist-packages (from spacy<3.8.0,>=3.7.0->pt-core-news-sm==3.7.0) (6.4.0)\n",
            "Requirement already satisfied: tqdm<5.0.0,>=4.38.0 in /usr/local/lib/python3.10/dist-packages (from spacy<3.8.0,>=3.7.0->pt-core-news-sm==3.7.0) (4.66.2)\n",
            "Requirement already satisfied: requests<3.0.0,>=2.13.0 in /usr/local/lib/python3.10/dist-packages (from spacy<3.8.0,>=3.7.0->pt-core-news-sm==3.7.0) (2.31.0)\n",
            "Requirement already satisfied: pydantic!=1.8,!=1.8.1,<3.0.0,>=1.7.4 in /usr/local/lib/python3.10/dist-packages (from spacy<3.8.0,>=3.7.0->pt-core-news-sm==3.7.0) (2.7.0)\n",
            "Requirement already satisfied: jinja2 in /usr/local/lib/python3.10/dist-packages (from spacy<3.8.0,>=3.7.0->pt-core-news-sm==3.7.0) (3.1.3)\n",
            "Requirement already satisfied: setuptools in /usr/local/lib/python3.10/dist-packages (from spacy<3.8.0,>=3.7.0->pt-core-news-sm==3.7.0) (67.7.2)\n",
            "Requirement already satisfied: packaging>=20.0 in /usr/local/lib/python3.10/dist-packages (from spacy<3.8.0,>=3.7.0->pt-core-news-sm==3.7.0) (24.0)\n",
            "Requirement already satisfied: langcodes<4.0.0,>=3.2.0 in /usr/local/lib/python3.10/dist-packages (from spacy<3.8.0,>=3.7.0->pt-core-news-sm==3.7.0) (3.3.0)\n",
            "Requirement already satisfied: numpy>=1.19.0 in /usr/local/lib/python3.10/dist-packages (from spacy<3.8.0,>=3.7.0->pt-core-news-sm==3.7.0) (1.25.2)\n",
            "Requirement already satisfied: annotated-types>=0.4.0 in /usr/local/lib/python3.10/dist-packages (from pydantic!=1.8,!=1.8.1,<3.0.0,>=1.7.4->spacy<3.8.0,>=3.7.0->pt-core-news-sm==3.7.0) (0.6.0)\n",
            "Requirement already satisfied: pydantic-core==2.18.1 in /usr/local/lib/python3.10/dist-packages (from pydantic!=1.8,!=1.8.1,<3.0.0,>=1.7.4->spacy<3.8.0,>=3.7.0->pt-core-news-sm==3.7.0) (2.18.1)\n",
            "Requirement already satisfied: typing-extensions>=4.6.1 in /usr/local/lib/python3.10/dist-packages (from pydantic!=1.8,!=1.8.1,<3.0.0,>=1.7.4->spacy<3.8.0,>=3.7.0->pt-core-news-sm==3.7.0) (4.11.0)\n",
            "Requirement already satisfied: charset-normalizer<4,>=2 in /usr/local/lib/python3.10/dist-packages (from requests<3.0.0,>=2.13.0->spacy<3.8.0,>=3.7.0->pt-core-news-sm==3.7.0) (3.3.2)\n",
            "Requirement already satisfied: idna<4,>=2.5 in /usr/local/lib/python3.10/dist-packages (from requests<3.0.0,>=2.13.0->spacy<3.8.0,>=3.7.0->pt-core-news-sm==3.7.0) (3.7)\n",
            "Requirement already satisfied: urllib3<3,>=1.21.1 in /usr/local/lib/python3.10/dist-packages (from requests<3.0.0,>=2.13.0->spacy<3.8.0,>=3.7.0->pt-core-news-sm==3.7.0) (2.0.7)\n",
            "Requirement already satisfied: certifi>=2017.4.17 in /usr/local/lib/python3.10/dist-packages (from requests<3.0.0,>=2.13.0->spacy<3.8.0,>=3.7.0->pt-core-news-sm==3.7.0) (2024.2.2)\n",
            "Requirement already satisfied: blis<0.8.0,>=0.7.8 in /usr/local/lib/python3.10/dist-packages (from thinc<8.3.0,>=8.2.2->spacy<3.8.0,>=3.7.0->pt-core-news-sm==3.7.0) (0.7.11)\n",
            "Requirement already satisfied: confection<1.0.0,>=0.0.1 in /usr/local/lib/python3.10/dist-packages (from thinc<8.3.0,>=8.2.2->spacy<3.8.0,>=3.7.0->pt-core-news-sm==3.7.0) (0.1.4)\n",
            "Requirement already satisfied: click<9.0.0,>=7.1.1 in /usr/local/lib/python3.10/dist-packages (from typer<0.10.0,>=0.3.0->spacy<3.8.0,>=3.7.0->pt-core-news-sm==3.7.0) (8.1.7)\n",
            "Requirement already satisfied: cloudpathlib<0.17.0,>=0.7.0 in /usr/local/lib/python3.10/dist-packages (from weasel<0.4.0,>=0.1.0->spacy<3.8.0,>=3.7.0->pt-core-news-sm==3.7.0) (0.16.0)\n",
            "Requirement already satisfied: MarkupSafe>=2.0 in /usr/local/lib/python3.10/dist-packages (from jinja2->spacy<3.8.0,>=3.7.0->pt-core-news-sm==3.7.0) (2.1.5)\n",
            "Installing collected packages: pt-core-news-sm\n",
            "Successfully installed pt-core-news-sm-3.7.0\n",
            "\u001b[38;5;2m✔ Download and installation successful\u001b[0m\n",
            "You can now load the package via spacy.load('pt_core_news_sm')\n",
            "\u001b[38;5;3m⚠ Restart to reload dependencies\u001b[0m\n",
            "If you are in a Jupyter or Colab notebook, you may need to restart Python in\n",
            "order to load all the package's dependencies. You can do this by selecting the\n",
            "'Restart kernel' or 'Restart runtime' option.\n"
          ]
        }
      ]
    },
    {
      "cell_type": "code",
      "source": [
        "import spacy\n",
        "import pt_core_news_sm\n",
        "nlp = pt_core_news_sm.load()"
      ],
      "metadata": {
        "id": "iY2XPitvY6sm"
      },
      "execution_count": 18,
      "outputs": []
    },
    {
      "cell_type": "code",
      "source": [
        "texto = nlp('Maria mora em Paris')\n",
        "\n",
        "# Printando as entidades padão do modelo\n",
        "for entidade in texto.ents:\n",
        "  print(entidade.text, entidade.label_)"
      ],
      "metadata": {
        "colab": {
          "base_uri": "https://localhost:8080/"
        },
        "id": "7a3xTSI3ZR8L",
        "outputId": "86c0c561-3625-4970-ea61-76a9f345713e"
      },
      "execution_count": 19,
      "outputs": [
        {
          "output_type": "stream",
          "name": "stdout",
          "text": [
            "Maria PER\n",
            "Paris LOC\n"
          ]
        }
      ]
    },
    {
      "cell_type": "code",
      "source": [
        "# Visualização das entidades na frase\n",
        "spacy.displacy.render(texto, style='ent', jupyter=True)"
      ],
      "metadata": {
        "colab": {
          "base_uri": "https://localhost:8080/",
          "height": 52
        },
        "id": "YQRBSQCEZbEG",
        "outputId": "c87caccf-e6d9-4c17-a4fb-b7b6449f814d"
      },
      "execution_count": 20,
      "outputs": [
        {
          "output_type": "display_data",
          "data": {
            "text/plain": [
              "<IPython.core.display.HTML object>"
            ],
            "text/html": [
              "<span class=\"tex2jax_ignore\"><div class=\"entities\" style=\"line-height: 2.5; direction: ltr\">\n",
              "<mark class=\"entity\" style=\"background: #ddd; padding: 0.45em 0.6em; margin: 0 0.25em; line-height: 1; border-radius: 0.35em;\">\n",
              "    Maria\n",
              "    <span style=\"font-size: 0.8em; font-weight: bold; line-height: 1; border-radius: 0.35em; vertical-align: middle; margin-left: 0.5rem\">PER</span>\n",
              "</mark>\n",
              " mora em \n",
              "<mark class=\"entity\" style=\"background: #ff9561; padding: 0.45em 0.6em; margin: 0 0.25em; line-height: 1; border-radius: 0.35em;\">\n",
              "    Paris\n",
              "    <span style=\"font-size: 0.8em; font-weight: bold; line-height: 1; border-radius: 0.35em; vertical-align: middle; margin-left: 0.5rem\">LOC</span>\n",
              "</mark>\n",
              "</div></span>"
            ]
          },
          "metadata": {}
        }
      ]
    },
    {
      "cell_type": "code",
      "source": [
        "# O que é cada tipo de entidade(ver na doc do spacy)\n",
        "print(\"PER:\", spacy.explain('PER'))\n",
        "print(\"LOC:\", spacy.explain('LOC'))\n",
        "print(\"ORG:\", spacy.explain('ORG'))\n",
        "print(\"MISC:\", spacy.explain('MISC'))"
      ],
      "metadata": {
        "colab": {
          "base_uri": "https://localhost:8080/"
        },
        "id": "A-9aiI8RZkta",
        "outputId": "bc4e53a1-162a-4e17-975a-bd87bea412f6"
      },
      "execution_count": 21,
      "outputs": [
        {
          "output_type": "stream",
          "name": "stdout",
          "text": [
            "PER: Named person or family.\n",
            "LOC: Non-GPE locations, mountain ranges, bodies of water\n",
            "ORG: Companies, agencies, institutions, etc.\n",
            "MISC: Miscellaneous entities, e.g. events, nationalities, products or works of art\n"
          ]
        }
      ]
    },
    {
      "cell_type": "code",
      "source": [
        "text = nlp(\"Juliana nasceu no dia 18/06/2018 em Fortaleza\")\n",
        "spacy.displacy.render(text, style='ent', jupyter=True)"
      ],
      "metadata": {
        "colab": {
          "base_uri": "https://localhost:8080/",
          "height": 52
        },
        "id": "yfg1wyuvZ4_B",
        "outputId": "74a84080-2018-4f0d-f058-78307b01d0b2"
      },
      "execution_count": 22,
      "outputs": [
        {
          "output_type": "display_data",
          "data": {
            "text/plain": [
              "<IPython.core.display.HTML object>"
            ],
            "text/html": [
              "<span class=\"tex2jax_ignore\"><div class=\"entities\" style=\"line-height: 2.5; direction: ltr\">\n",
              "<mark class=\"entity\" style=\"background: #ddd; padding: 0.45em 0.6em; margin: 0 0.25em; line-height: 1; border-radius: 0.35em;\">\n",
              "    Juliana\n",
              "    <span style=\"font-size: 0.8em; font-weight: bold; line-height: 1; border-radius: 0.35em; vertical-align: middle; margin-left: 0.5rem\">PER</span>\n",
              "</mark>\n",
              " nasceu no dia 18/06/2018 em \n",
              "<mark class=\"entity\" style=\"background: #ff9561; padding: 0.45em 0.6em; margin: 0 0.25em; line-height: 1; border-radius: 0.35em;\">\n",
              "    Fortaleza\n",
              "    <span style=\"font-size: 0.8em; font-weight: bold; line-height: 1; border-radius: 0.35em; vertical-align: middle; margin-left: 0.5rem\">LOC</span>\n",
              "</mark>\n",
              "</div></span>"
            ]
          },
          "metadata": {}
        }
      ]
    },
    {
      "cell_type": "markdown",
      "source": [
        "# 3- Criando um novo tipo de entidade no SpaCy\n",
        "Aqui o modelo não identificou a data.\n",
        "\n",
        "O spaCy permite re-treinar o modelo com novos dados melhorar o modelo e até gerar modelos novos.\n",
        "\n",
        "Como a entidade data não foi identificada, podemos inserir alguns exemplos e re-treinar o algoritmo para que este aprenda novos padrões."
      ],
      "metadata": {
        "id": "13rx0eFFZ_W6"
      }
    },
    {
      "cell_type": "code",
      "source": [
        "import random"
      ],
      "metadata": {
        "id": "WeYW2cjIZ-RJ"
      },
      "execution_count": 23,
      "outputs": []
    },
    {
      "cell_type": "code",
      "source": [
        "TRAIN_DATA = [\n",
        "    (\"Almira é uma ótima pessoa, gosto muito dela\", {\"entities\": [(0, 6, \"PER\")]}),\n",
        "    (\"João foi para Campo Grande nas férias\", {\"entities\": [(14, 26, \"LOC\"), (0, 4, \"PER\")]}),\n",
        "    (\"Carlos foi visitar João na casa de praia\", {\"entities\": [(0, 6, \"PER\"), (19, 23, \"PER\")]}),\n",
        "    (\"No meio do ano irei para São Paulo fazer mais um curso\", {\"entities\": [(25, 34, \"LOC\")]}),\n",
        "    (\"O sonho dela era ir para Austrália visitar seu irmão\", {\"entities\": [(25, 34, \"LOC\")]}),\n",
        "    (\"Em 15/07/1988 nasceu essa linda criança\", {\"entities\": [(3, 13, \"DATE\"), (18, 24, \"LOC\")]}),\n",
        "    (\"Data de prisão: 10/01/2018\", {\"entities\": [(16, 26, \"DATE\")]}),\n",
        "    (\"No dia 01/02/2016 foi decretada a sentença\", {\"entities\": [(7, 17, \"DATE\")]}),\n",
        "    (\"A data da festa foi 07/05/2018\", {\"entities\": [(20, 30, \"DATE\")]}),\n",
        "    (\"Dia 07/06/2020 choveu pela manhã\", {\"entities\": [(4, 14, \"DATE\")]}),\n",
        "    (\"Michael Jackson nasceu dia 29/08/1958\", {\"entities\": [(0, 15, \"PER\"), ( 27, 37, \"DATE\")]}),\n",
        "    (\"A viagem foi marcada para o dia 21/03/2021\", {\"entities\": [(32, 42, \"DATE\")]}),\n",
        "    (\"O casamento, que era dia 12/06/2020, foi adiado para o dia 20/07/2020\", {\"entities\": [(25, 35, \"DATE\"), (59, 68, \"DATE\")]}),\n",
        "    (\"Dia 21/04/2020 foi feriado\", {\"entities\": [(4, 14, \"DATE\")]}),\n",
        "    (\"A entrega foi realizada na manhã do dia 18/03/2020 \", {\"entities\": [(40, 50, \"DATE\")]}),\n",
        "    (\"Na noite do dia 17/05/2019 aconteceu um eclipse\", {\"entities\": [(16, 26, \"DATE\")]}),\n",
        "    (\"Rio de Janeiro é a capital do Rio de Janeiro\", {\"entities\": [(0, 14, \"LOC\"), (30, 44, \"LOC\")]})\n",
        "]"
      ],
      "metadata": {
        "id": "xKHXFhWaaibj"
      },
      "execution_count": 27,
      "outputs": []
    },
    {
      "cell_type": "code",
      "source": [
        "import pandas as pd\n",
        "import os\n",
        "from tqdm import tqdm\n",
        "import spacy\n",
        "from spacy.tokens import DocBin\n",
        "\n",
        "nlp = spacy.load(\"en_core_web_sm\")\n",
        "\n",
        "db = DocBin()\n",
        "\n",
        "for text, annot in tqdm(TRAIN_DATA):\n",
        "    doc = nlp.make_doc(text)\n",
        "    ents = []\n",
        "    for start, end, label in annot[\"entities\"]:\n",
        "        span = doc.char_span(start, end, label=label, alignment_mode=\"contract\")\n",
        "        if span is None:\n",
        "            print(\"Skipping entity\")\n",
        "        else:\n",
        "            ents.append(span)\n",
        "    doc.ents = ents\n",
        "    db.add(doc)\n",
        "\n",
        "os.chdir(r'/content')\n",
        "db.to_disk(\"./train.spacy\") # salvando o objeto"
      ],
      "metadata": {
        "colab": {
          "base_uri": "https://localhost:8080/"
        },
        "id": "Cre3rg6Gni6V",
        "outputId": "d5b3356a-a873-4a50-c0c6-14846500e900"
      },
      "execution_count": 28,
      "outputs": [
        {
          "output_type": "stream",
          "name": "stderr",
          "text": [
            "100%|██████████| 17/17 [00:00<00:00, 1224.53it/s]"
          ]
        },
        {
          "output_type": "stream",
          "name": "stdout",
          "text": [
            "Skipping entity\n",
            "Skipping entity\n"
          ]
        },
        {
          "output_type": "stream",
          "name": "stderr",
          "text": [
            "\n"
          ]
        }
      ]
    },
    {
      "cell_type": "code",
      "source": [
        "!python -m spacy init fill-config base_config.cfg config.cfg"
      ],
      "metadata": {
        "colab": {
          "base_uri": "https://localhost:8080/"
        },
        "id": "pXCQFMr2uucp",
        "outputId": "9143f4e4-35a9-4c43-fd5c-51511dbca6b0"
      },
      "execution_count": 29,
      "outputs": [
        {
          "output_type": "stream",
          "name": "stdout",
          "text": [
            "\u001b[38;5;2m✔ Auto-filled config with all values\u001b[0m\n",
            "\u001b[38;5;2m✔ Saved config\u001b[0m\n",
            "config.cfg\n",
            "You can now add your data and train your pipeline:\n",
            "python -m spacy train config.cfg --paths.train ./train.spacy --paths.dev ./dev.spacy\n"
          ]
        }
      ]
    },
    {
      "cell_type": "code",
      "source": [
        "!python -m spacy train config.cfg --output ./output --paths.train ./train.spacy --paths.dev ./train.spacy"
      ],
      "metadata": {
        "colab": {
          "base_uri": "https://localhost:8080/"
        },
        "id": "W1xh4gakxeWd",
        "outputId": "d104bb45-a988-46cf-f27f-c6d1b8db7404"
      },
      "execution_count": 30,
      "outputs": [
        {
          "output_type": "stream",
          "name": "stdout",
          "text": [
            "\u001b[38;5;2m✔ Created output directory: output\u001b[0m\n",
            "\u001b[38;5;4mℹ Saving to output directory: output\u001b[0m\n",
            "\u001b[38;5;4mℹ Using CPU\u001b[0m\n",
            "\u001b[1m\n",
            "=========================== Initializing pipeline ===========================\u001b[0m\n",
            "\u001b[38;5;2m✔ Initialized pipeline\u001b[0m\n",
            "\u001b[1m\n",
            "============================= Training pipeline =============================\u001b[0m\n",
            "\u001b[38;5;4mℹ Pipeline: ['tok2vec', 'ner']\u001b[0m\n",
            "\u001b[38;5;4mℹ Initial learn rate: 0.001\u001b[0m\n",
            "E    #       LOSS TOK2VEC  LOSS NER  ENTS_F  ENTS_P  ENTS_R  SCORE \n",
            "---  ------  ------------  --------  ------  ------  ------  ------\n",
            "  0       0          0.00     59.64    0.00    0.00    0.00    0.00\n",
            "148     200          9.23    803.14  100.00  100.00  100.00    1.00\n",
            "348     400          0.00      0.00  100.00  100.00  100.00    1.00\n",
            "548     600          0.00      0.00  100.00  100.00  100.00    1.00\n",
            "748     800          0.00      0.00  100.00  100.00  100.00    1.00\n",
            "948    1000          0.00      0.00  100.00  100.00  100.00    1.00\n",
            "1148    1200          0.00      0.00  100.00  100.00  100.00    1.00\n",
            "1348    1400          0.00      0.00  100.00  100.00  100.00    1.00\n",
            "1548    1600          0.00      0.00  100.00  100.00  100.00    1.00\n",
            "1748    1800          0.00      0.00  100.00  100.00  100.00    1.00\n",
            "\u001b[38;5;2m✔ Saved pipeline to output directory\u001b[0m\n",
            "output/model-last\n"
          ]
        }
      ]
    },
    {
      "cell_type": "code",
      "source": [
        "nlp1 = spacy.load(r\"/content/output/model-best\")\n",
        "doc = nlp1(\"Luana nasceu em Campo Grande em 31/05/2023\")\n",
        "\n",
        "spacy.displacy.render(doc, style=\"ent\", jupyter=True)"
      ],
      "metadata": {
        "colab": {
          "base_uri": "https://localhost:8080/",
          "height": 52
        },
        "id": "oumOla6nyelB",
        "outputId": "79414c9d-b03b-408d-d481-1c967acede48"
      },
      "execution_count": 32,
      "outputs": [
        {
          "output_type": "display_data",
          "data": {
            "text/plain": [
              "<IPython.core.display.HTML object>"
            ],
            "text/html": [
              "<span class=\"tex2jax_ignore\"><div class=\"entities\" style=\"line-height: 2.5; direction: ltr\">\n",
              "<mark class=\"entity\" style=\"background: #ff9561; padding: 0.45em 0.6em; margin: 0 0.25em; line-height: 1; border-radius: 0.35em;\">\n",
              "    Luana\n",
              "    <span style=\"font-size: 0.8em; font-weight: bold; line-height: 1; border-radius: 0.35em; vertical-align: middle; margin-left: 0.5rem\">LOC</span>\n",
              "</mark>\n",
              " nasceu em \n",
              "<mark class=\"entity\" style=\"background: #ff9561; padding: 0.45em 0.6em; margin: 0 0.25em; line-height: 1; border-radius: 0.35em;\">\n",
              "    Campo\n",
              "    <span style=\"font-size: 0.8em; font-weight: bold; line-height: 1; border-radius: 0.35em; vertical-align: middle; margin-left: 0.5rem\">LOC</span>\n",
              "</mark>\n",
              " Grande em \n",
              "<mark class=\"entity\" style=\"background: #bfe1d9; padding: 0.45em 0.6em; margin: 0 0.25em; line-height: 1; border-radius: 0.35em;\">\n",
              "    31/05/2023\n",
              "    <span style=\"font-size: 0.8em; font-weight: bold; line-height: 1; border-radius: 0.35em; vertical-align: middle; margin-left: 0.5rem\">DATE</span>\n",
              "</mark>\n",
              "</div></span>"
            ]
          },
          "metadata": {}
        }
      ]
    },
    {
      "cell_type": "markdown",
      "source": [
        "# Matcher\n",
        "Agora vamos usar o matcher para adicionar padrões que serão encontrados no texto de acondo com o shape do token."
      ],
      "metadata": {
        "id": "AaT8fJQ3hHSF"
      }
    },
    {
      "cell_type": "code",
      "source": [
        "from spacy.matcher import Matcher\n",
        "\n",
        "texto = \"\"\"\n",
        "Meu número é (11) 98765 - 3333 ou sem espaço (11) 98765-4444 e o número do meu amigo é 55 11 8765 5555.\n",
        " Caso necessario entre em contato via email pelo miau@gmail.com.\n",
        "\"\"\"\n",
        "doc = nlp1(texto) # isso foi necessário pois o matcher le documentos ja processados pelo spacy e nao texto puro\n",
        "\n",
        "matcher1 = Matcher(nlp1.vocab)\n",
        "\n",
        "# Definir padrões para combinar números de telefone\n",
        "patterns = [\n",
        "    [{\"TEXT\": \"(\"}, {\"SHAPE\": \"dd\"}, {\"TEXT\": \")\"}, {\"SHAPE\": \"dddd\"}, {\"TEXT\": \"-\"}, {\"SHAPE\": \"dddd\"}],  # (11) 9876-5555\n",
        "    [{\"TEXT\": \"(\"}, {\"SHAPE\": \"dd\"}, {\"TEXT\": \")\"},{\"SHAPE\": \"dddd-dddd\"}],  # (11) 98765-4444\n",
        "    [{\"SHAPE\": \"dd\"}, {\"SHAPE\": \"dd\"}, {\"SHAPE\": \"dddd\"}, {\"SHAPE\": \"dddd\"}],   # 55 11 8765 5555\n",
        "\n",
        "]\n",
        "# Definir padrões para emails\n",
        "email_pattern = [{'TEXT': {'REGEX': '[a-zA-Z0-9._%+-]+@[a-zA-Z0-9.-]+\\\\.[a-zA-Z]{2,}'}},]\n",
        "matcher1.add('Regra A', [email_pattern])\n",
        "\n",
        "\n",
        "\n",
        "# Adicionar os padrões ao matcher\n",
        "for pattern in patterns:\n",
        "    matcher1.add(\"PHONE_NUMBER\", [pattern])\n",
        "\n",
        "# Dando uma olhada no shape_\n",
        "matches = matcher1(doc)\n",
        "for token in doc:\n",
        "    print(token.text, token.shape_,\"---------------\")\n",
        "# Extrair e imprimir os números de telefone correspondentes\n",
        "phone_numbers = [doc[start:end].text for match_id, start, end in matches]\n",
        "print(\"Matches extraídos:\", phone_numbers)\n"
      ],
      "metadata": {
        "id": "wJ-O8FaQzKk4",
        "colab": {
          "base_uri": "https://localhost:8080/"
        },
        "outputId": "37e6e095-d423-4f94-c199-eb68ea1f22be"
      },
      "execution_count": 31,
      "outputs": [
        {
          "output_type": "stream",
          "name": "stdout",
          "text": [
            "\n",
            " \n",
            " ---------------\n",
            "Meu Xxx ---------------\n",
            "número xxxx ---------------\n",
            "é x ---------------\n",
            "( ( ---------------\n",
            "11 dd ---------------\n",
            ") ) ---------------\n",
            "98765 dddd ---------------\n",
            "- - ---------------\n",
            "3333 dddd ---------------\n",
            "ou xx ---------------\n",
            "sem xxx ---------------\n",
            "espaço xxxx ---------------\n",
            "( ( ---------------\n",
            "11 dd ---------------\n",
            ") ) ---------------\n",
            "98765-4444 dddd-dddd ---------------\n",
            "e x ---------------\n",
            "o x ---------------\n",
            "número xxxx ---------------\n",
            "do xx ---------------\n",
            "meu xxx ---------------\n",
            "amigo xxxx ---------------\n",
            "é x ---------------\n",
            "55 dd ---------------\n",
            "11 dd ---------------\n",
            "8765 dddd ---------------\n",
            "5555 dddd ---------------\n",
            ". . ---------------\n",
            "\n",
            "  \n",
            "  ---------------\n",
            "Caso Xxxx ---------------\n",
            "necessario xxxx ---------------\n",
            "entre xxxx ---------------\n",
            "em xx ---------------\n",
            "contato xxxx ---------------\n",
            "via xxx ---------------\n",
            "email xxxx ---------------\n",
            "pelo xxxx ---------------\n",
            "miau@gmail.com xxxx@xxxx.xxx ---------------\n",
            ". . ---------------\n",
            "\n",
            " \n",
            " ---------------\n",
            "Matches extraídos: ['(11) 98765 - 3333', '(11) 98765-4444', '55 11 8765 5555', 'miau@gmail.com']\n"
          ]
        }
      ]
    },
    {
      "cell_type": "code",
      "source": [
        "nlp2 = spacy.load(\"pt_core_news_sm\")\n",
        "texto = \"\"\"Ana comeu batatas.\n",
        "Pedro foi ao cinema com Joana.\n",
        "Ontem encontrei uma amiga no Shopping.\n",
        "Ana irá viajar na próxima semana\"\"\"\n",
        "doc = nlp2(texto)"
      ],
      "metadata": {
        "id": "H5JN1-w3iJYN"
      },
      "execution_count": 54,
      "outputs": []
    },
    {
      "cell_type": "code",
      "source": [
        "for token in doc:\n",
        "    print(token.text, token.pos_,token.morph)"
      ],
      "metadata": {
        "colab": {
          "base_uri": "https://localhost:8080/"
        },
        "id": "zVfXzXQSoJ_K",
        "outputId": "59fc39e6-d949-41be-90cd-f0753da08041"
      },
      "execution_count": 68,
      "outputs": [
        {
          "output_type": "stream",
          "name": "stdout",
          "text": [
            "Ana PROPN Gender=Fem|Number=Sing\n",
            "comeu VERB Mood=Sub|Number=Plur|Person=3|Tense=Pres|VerbForm=Fin\n",
            "batatas NOUN Gender=Fem|Number=Plur\n",
            ". PUNCT \n",
            "\n",
            " SPACE \n",
            "Pedro PROPN Gender=Masc|Number=Sing\n",
            "foi VERB Mood=Ind|Number=Sing|Person=3|Tense=Past|VerbForm=Fin\n",
            "ao ADP Definite=Def|Gender=Masc|Number=Sing|PronType=Art\n",
            "cinema NOUN Gender=Masc|Number=Sing\n",
            "com ADP \n",
            "Joana PROPN Gender=Fem|Number=Sing\n",
            ". PUNCT \n",
            "\n",
            " SPACE \n",
            "Ontem ADV \n",
            "encontrei VERB Mood=Ind|Number=Sing|Person=1|Tense=Past|VerbForm=Fin\n",
            "uma DET Definite=Ind|Gender=Fem|Number=Sing|PronType=Art\n",
            "amiga NOUN Gender=Fem|Number=Sing\n",
            "no ADP Definite=Def|Gender=Masc|Number=Sing|PronType=Art\n",
            "Shopping PROPN Gender=Masc|Number=Sing\n",
            ". PUNCT \n",
            "\n",
            " SPACE \n",
            "Ana PROPN Gender=Fem|Number=Sing\n",
            "irá AUX Mood=Ind|Number=Sing|Person=3|Tense=Fut|VerbForm=Fin\n",
            "viajar VERB VerbForm=Inf\n",
            "na ADP Definite=Def|Gender=Fem|Number=Sing|PronType=Art\n",
            "próxima ADJ Gender=Fem|Number=Sing\n",
            "semana NOUN Gender=Fem|Number=Sing\n"
          ]
        }
      ]
    },
    {
      "cell_type": "code",
      "source": [
        "#Aqui vamos criar uma regra para pegar apenas a senteça realizada por uma mulher que esteja no passado\n",
        "patern_past_fem = [{'POS':'PROPN', 'MORPH':{'IS_SUPERSET':[\"Gender=Fem\"]}},\n",
        "                   {'MORPH':{'IS_SUPERSET':['Tense=Pres']}},\n",
        "                   {'OP':'?'},\n",
        "                   {'POS':'NOUN'}\n",
        "                   ]"
      ],
      "metadata": {
        "id": "D2Mi-jQhirSH"
      },
      "execution_count": 62,
      "outputs": []
    },
    {
      "cell_type": "code",
      "source": [
        "matcher2 = Matcher(nlp2.vocab)\n",
        "matcher2.add('Regra B', [patern_past_fem])"
      ],
      "metadata": {
        "id": "D1qkAv8amWnt"
      },
      "execution_count": 63,
      "outputs": []
    },
    {
      "cell_type": "code",
      "source": [
        "matches = matcher2(doc)\n",
        "# Extrair e imprimir as sentenças correspondentes\n",
        "for match_id, start, end in matches:\n",
        "  print(doc[start:end].text)"
      ],
      "metadata": {
        "colab": {
          "base_uri": "https://localhost:8080/"
        },
        "id": "FYPy-L4fmk6E",
        "outputId": "a2f4b8f6-763a-4d35-b4a7-76c63bef020f"
      },
      "execution_count": 64,
      "outputs": [
        {
          "output_type": "stream",
          "name": "stdout",
          "text": [
            "Ana comeu batatas\n"
          ]
        }
      ]
    },
    {
      "cell_type": "code",
      "source": [],
      "metadata": {
        "id": "dIVm930pmxVH"
      },
      "execution_count": null,
      "outputs": []
    }
  ]
}